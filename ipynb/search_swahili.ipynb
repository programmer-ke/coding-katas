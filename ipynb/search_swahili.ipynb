{
 "cells": [
  {
   "cell_type": "markdown",
   "id": "a8dfb740-4d28-4d16-b955-be95e2bd4544",
   "metadata": {},
   "source": [
    "# Implementing Search for Swahili Text"
   ]
  },
  {
   "cell_type": "markdown",
   "id": "1818b229-9415-42e6-9021-5ed30314384f",
   "metadata": {},
   "source": [
    "We'll explore a number of techniques for implementing search, from simple keyword filtering to more sophisticated semantic search. We'll use data from the [MasakhaNER][0] project for demonstration.\n",
    "\n",
    "[0]: https://github.com/masakhane-io/masakhane-ner/tree/main"
   ]
  },
  {
   "cell_type": "markdown",
   "id": "2f38ceb5-9477-4749-86f0-cc04fb534b7f",
   "metadata": {},
   "source": [
    "First setup the dependencies."
   ]
  },
  {
   "cell_type": "code",
   "execution_count": 1,
   "id": "6f3aa7a1-27a9-445e-9503-15813483e7bb",
   "metadata": {},
   "outputs": [],
   "source": [
    "!pip install -q requests pandas scikit-learn jupyter transformers tqdm\n",
    "!pip install -q torch torchvision torchaudio --index-url https://download.pytorch.org/whl/cpu"
   ]
  },
  {
   "cell_type": "code",
   "execution_count": 2,
   "id": "332e9b46-4854-4ff9-a507-792050d04931",
   "metadata": {},
   "outputs": [],
   "source": [
    "import pandas as pd\n",
    "import requests\n",
    "import io\n",
    "import numpy as np"
   ]
  },
  {
   "cell_type": "markdown",
   "id": "3028a80c-fa18-4670-a9e3-d9e328b9f36f",
   "metadata": {},
   "source": [
    "## Get the data"
   ]
  },
  {
   "cell_type": "markdown",
   "id": "aaaf22d4-cf8b-4e12-bf75-eb5af94a8b36",
   "metadata": {},
   "source": [
    "The data we will be using is Swahili News text data from the [masakhane-ner][1] repository, whose origin is the Swahili version of [Voice of America][2]\n",
    "\n",
    "[1]: https://github.com/masakhane-io/masakhane-ner/tree/main/text_by_language/swahili\n",
    "[2]: https://www.voaswahili.com/z/2772"
   ]
  },
  {
   "cell_type": "code",
   "execution_count": 3,
   "id": "d0d84eac-6269-46e0-be96-5e70c3815c0a",
   "metadata": {},
   "outputs": [],
   "source": [
    "docs_url = 'https://raw.githubusercontent.com/masakhane-io/masakhane-ner/main/text_by_language/swahili/voa_clean_final.txt'\n",
    "docs_response = requests.get(docs_url)\n",
    "documents_raw = docs_response.text"
   ]
  },
  {
   "cell_type": "code",
   "execution_count": 4,
   "id": "d768b214-c040-4bfe-95c9-93740669197d",
   "metadata": {},
   "outputs": [
    {
     "data": {
      "text/plain": [
       "'Wizara ya afya ya Tanzania imeripoti Jumatatu kuwa, watu takriban 14 zaidi wamepata maambukizi ya Covid-19.\\nWalioambukizwa wote ni raia wa Tanzania, 13 wakiwa Dar-es-salaam na mmoja mjini Arusha.\\nWizara ya afya imeripoti kwamba juhudi za kufuatilia watu waliokuwa karibu na wagonjwa zinaendelea.\\nWakati wa maadimisho ya pasaka, wakristo walikusanyika kanisani kwa maombi bila kuzingatia ushauri wa wataalam wa afya.\\nKuna mijadala kwenye mitandao ya kijamii Tanzania, kuhusu hatua zinazochukuliwa kudhibithi maambukizi nchini humo.\\nNchini Afrika kusini watu 145 zaidi, wameambukizwa virusi vya Corona, na kujumulisha idadi ya watu 2,173 ambao wameambukizwa virusi vya Corona nchini humo.\\nTaarifa ya wizara ya afya hata hivyo haijasema idadi ya watu ambao wamekufa wala kupona kutokana na virusi vya Corona nchini humo.\\nNchini Sudan, maafisa wameongeza mikakati zaidi ya kuzuia virusi vya Corona kusambaa.\\nWamepiga marufuku usafiri wa magari kati ya miji na kutekeleza sheria za hali ya dharura ili ku'"
      ]
     },
     "execution_count": 4,
     "metadata": {},
     "output_type": "execute_result"
    }
   ],
   "source": [
    "documents_raw[:999]"
   ]
  },
  {
   "cell_type": "markdown",
   "id": "025c4cf4-4e69-4007-846d-388b4f1c8db0",
   "metadata": {},
   "source": [
    "The data is composed of randomly ordered sentences from the News sources. We'll treat each sentence as a single document in our corpus. We extract the sentences line by line into a pandas dataframe."
   ]
  },
  {
   "cell_type": "code",
   "execution_count": 5,
   "id": "539e229d-a091-4e4f-a940-55f0a173627b",
   "metadata": {},
   "outputs": [
    {
     "data": {
      "text/html": [
       "<div>\n",
       "<style scoped>\n",
       "    .dataframe tbody tr th:only-of-type {\n",
       "        vertical-align: middle;\n",
       "    }\n",
       "\n",
       "    .dataframe tbody tr th {\n",
       "        vertical-align: top;\n",
       "    }\n",
       "\n",
       "    .dataframe thead th {\n",
       "        text-align: right;\n",
       "    }\n",
       "</style>\n",
       "<table border=\"1\" class=\"dataframe\">\n",
       "  <thead>\n",
       "    <tr style=\"text-align: right;\">\n",
       "      <th></th>\n",
       "      <th>documents</th>\n",
       "    </tr>\n",
       "  </thead>\n",
       "  <tbody>\n",
       "    <tr>\n",
       "      <th>7667</th>\n",
       "      <td>Wakati huohuo upande wa utetezi uliomwakilisha Jaji umesema hauna tena sababu ya kuwaita mashahidi wake, lakini itaomba mahakama hiyo kutupia mbali kesi hiyo kwa sababu serikali ya Nigeria imeshindwa kuthibitisha madai yake.</td>\n",
       "    </tr>\n",
       "    <tr>\n",
       "      <th>7668</th>\n",
       "      <td>Baadhi ya wananchi wa Nigeria wanadai kuwa hatua iliyochukuliwa na Rais Buhari, ni njama ya kumweka mwengine kutoka upande wa Kaskazini mwa Nigeria kuchukuwa cheo hicho cha Jaji Mkuu.</td>\n",
       "    </tr>\n",
       "    <tr>\n",
       "      <th>7669</th>\n",
       "      <td>Madai yao pia yanalenga suala la njama ya kurudi tena madarakani wakidai kuwa Buhari alikuwa akijitayarisha kushindania urais awamu ya pili na iwapo angeshindwa kesi ikifikishwa Mahakama Kuu kabisa, atakuwa na mtu wake wa karibu atakaye mwonea huruma na kuhakikisha kwamba anapata ushindi.</td>\n",
       "    </tr>\n",
       "    <tr>\n",
       "      <th>7670</th>\n",
       "      <td>Imetayarishwa na Mwandishi wetu, Collins Atohengbe, Nigeria</td>\n",
       "    </tr>\n",
       "    <tr>\n",
       "      <th>7671</th>\n",
       "      <td>Walinzi wa pwani ya Libya wamekamata wahamiaji 400 waliokuwa wakonjiani katika pwani ya Mediterranean ya nchi hiyo wakielekea Ulaya na kuwarejesha katika mji mkuu wa Tripoli masaa 24 yaliyopita, Shirika la uhamiaji la Umoja wa Mataifa UN limesema Jumapili.</td>\n",
       "    </tr>\n",
       "  </tbody>\n",
       "</table>\n",
       "</div>"
      ],
      "text/plain": [
       "                                                                                                                                                                                                                                                                                              documents\n",
       "7667                                                                   Wakati huohuo upande wa utetezi uliomwakilisha Jaji umesema hauna tena sababu ya kuwaita mashahidi wake, lakini itaomba mahakama hiyo kutupia mbali kesi hiyo kwa sababu serikali ya Nigeria imeshindwa kuthibitisha madai yake.\n",
       "7668                                                                                                            Baadhi ya wananchi wa Nigeria wanadai kuwa hatua iliyochukuliwa na Rais Buhari, ni njama ya kumweka mwengine kutoka upande wa Kaskazini mwa Nigeria kuchukuwa cheo hicho cha Jaji Mkuu.\n",
       "7669  Madai yao pia yanalenga suala la njama ya kurudi tena madarakani wakidai kuwa Buhari alikuwa akijitayarisha kushindania urais awamu ya pili na iwapo angeshindwa kesi ikifikishwa Mahakama Kuu kabisa, atakuwa na mtu wake wa karibu atakaye mwonea huruma na kuhakikisha kwamba anapata ushindi.\n",
       "7670                                                                                                                                                                                                                                        Imetayarishwa na Mwandishi wetu, Collins Atohengbe, Nigeria\n",
       "7671                                   Walinzi wa pwani ya Libya wamekamata wahamiaji 400 waliokuwa wakonjiani katika pwani ya Mediterranean ya nchi hiyo wakielekea Ulaya na kuwarejesha katika mji mkuu wa Tripoli masaa 24 yaliyopita, Shirika la uhamiaji la Umoja wa Mataifa UN limesema Jumapili."
      ]
     },
     "execution_count": 5,
     "metadata": {},
     "output_type": "execute_result"
    }
   ],
   "source": [
    "pd.set_option('display.max_colwidth', 999) # avoid truncation of the column\n",
    "\n",
    "in_memory_file = io.StringIO(documents_raw)\n",
    "df = pd.DataFrame([l.strip() for l in in_memory_file], columns=['documents'])\n",
    "df.tail()"
   ]
  },
  {
   "cell_type": "code",
   "execution_count": 6,
   "id": "c7d22dae-6129-4b92-b8ff-7023c69b1657",
   "metadata": {},
   "outputs": [
    {
     "data": {
      "text/plain": [
       "(7672, 1)"
      ]
     },
     "execution_count": 6,
     "metadata": {},
     "output_type": "execute_result"
    }
   ],
   "source": [
    "df.shape"
   ]
  },
  {
   "cell_type": "markdown",
   "id": "b00716e9-7499-449b-94dd-efbf50749149",
   "metadata": {},
   "source": [
    "We have 7672 documents in total.\n",
    "\n",
    "The data includes text from 2020 when the COVID-19 pandemic was a major news item. Let's say that from our dataset, we want to find documents related to Africa's response to the pandemic. We specify the query in swahili:"
   ]
  },
  {
   "cell_type": "code",
   "execution_count": 7,
   "id": "1097a897-2f74-4016-b4d4-3792ed3002e5",
   "metadata": {},
   "outputs": [],
   "source": [
    "query = \"nchi za afrika zinajadiliana na shirika la afya kutafuta njia za kukabiliana na janga la corona\""
   ]
  },
  {
   "cell_type": "markdown",
   "id": "e65a1d9f-d1bb-47be-824a-f734adad7a41",
   "metadata": {},
   "source": [
    "## Basic Text Search"
   ]
  },
  {
   "cell_type": "markdown",
   "id": "4acb20aa-c4c2-47a0-bf16-aec796c36cff",
   "metadata": {},
   "source": [
    "### Keyword Filtering\n",
    "\n",
    "A simple technique is to use keywords from our query to filter documents that may have the information we require. We only match documents that contain only the keywords we've selected."
   ]
  },
  {
   "cell_type": "markdown",
   "id": "49d9b353-41be-4c06-8baa-a8343bf8cedd",
   "metadata": {},
   "source": [
    "In the example below, we create filters for rows containing each word individually then combine the filters to leave only rows with all the words."
   ]
  },
  {
   "cell_type": "code",
   "execution_count": 8,
   "id": "0c0e1383-7c72-44a2-b032-651235041fd4",
   "metadata": {},
   "outputs": [
    {
     "data": {
      "text/html": [
       "<div>\n",
       "<style scoped>\n",
       "    .dataframe tbody tr th:only-of-type {\n",
       "        vertical-align: middle;\n",
       "    }\n",
       "\n",
       "    .dataframe tbody tr th {\n",
       "        vertical-align: top;\n",
       "    }\n",
       "\n",
       "    .dataframe thead th {\n",
       "        text-align: right;\n",
       "    }\n",
       "</style>\n",
       "<table border=\"1\" class=\"dataframe\">\n",
       "  <thead>\n",
       "    <tr style=\"text-align: right;\">\n",
       "      <th></th>\n",
       "      <th>documents</th>\n",
       "    </tr>\n",
       "  </thead>\n",
       "  <tbody>\n",
       "    <tr>\n",
       "      <th>1706</th>\n",
       "      <td>Waziri wa Afya Zweli Mkhize amethibitisha vifo hivyo, akisema marehemu wote hao walifia Magharibi mwa Cape province  Afrika Kusini ina zaidi ya watu 1,000 walioambukizwa virusi hivyo, ikiwa idadi kubwa zaidi katika Afrika, ambapo zaidi ya watu 3,000 barani humo wamethibitishwa kuwa na ugonjwa wa virusi vya corona.</td>\n",
       "    </tr>\n",
       "  </tbody>\n",
       "</table>\n",
       "</div>"
      ],
      "text/plain": [
       "                                                                                                                                                                                                                                                                                                                        documents\n",
       "1706  Waziri wa Afya Zweli Mkhize amethibitisha vifo hivyo, akisema marehemu wote hao walifia Magharibi mwa Cape province  Afrika Kusini ina zaidi ya watu 1,000 walioambukizwa virusi hivyo, ikiwa idadi kubwa zaidi katika Afrika, ambapo zaidi ya watu 3,000 barani humo wamethibitishwa kuwa na ugonjwa wa virusi vya corona."
      ]
     },
     "execution_count": 8,
     "metadata": {},
     "output_type": "execute_result"
    }
   ],
   "source": [
    "keywords = ['afrika', 'afya', 'corona']\n",
    "filters = [df.documents.str.contains(word, case=False) for word in keywords]\n",
    "combined_filter = np.vstack(filters).all(axis=0)\n",
    "df[combined_filter]"
   ]
  },
  {
   "cell_type": "markdown",
   "id": "2fa03ed6-b003-4c63-b0e5-e0f32d02db30",
   "metadata": {},
   "source": [
    "Only one document matches all the selected keywords.\n",
    "\n",
    "While this method is straightforward, it is sensitive to the combination of keywords selected and possible misspellings making it useful for mostly basic searches. When there's more than one match, the results have to be analysed further to determine the most relevant ones."
   ]
  },
  {
   "cell_type": "markdown",
   "id": "a4f34659-b261-4bc9-9678-464696c2c0ec",
   "metadata": {},
   "source": [
    "### Vectorization"
   ]
  },
  {
   "cell_type": "markdown",
   "id": "d885c7cb-355d-4bbf-8dd2-232a6e93686b",
   "metadata": {},
   "source": [
    "With vectorization, we move from the text representation to a numerical one, which can help with ranking the results.\n",
    "\n",
    "All the unique words in the document corpus are identified, ordered and assigned a unique index as their identity within the vocabulary. The collection of documents will be represented as a table where each row represents a single document and each column represents a word in the derived vocabulary. This is known as a *document-term matrix*, with documents on the x-axis and terms on the y-axis.\n",
    "\n",
    "There are two types of vectorization we'll look at, Count Vectorization and TF-IDF."
   ]
  },
  {
   "cell_type": "markdown",
   "id": "cdb5d272-3d76-4a07-8578-8b4ce6d6ef69",
   "metadata": {},
   "source": [
    "#### Count Vectorization"
   ]
  },
  {
   "cell_type": "markdown",
   "id": "ef7884b0-c732-4cfb-ad9f-46eef6b3fa04",
   "metadata": {},
   "source": [
    "In count vectorization, the value of each cell in the document-term matrix represents the number of times the particular word appears in the document. Calling `fit_transform` on the count vectorizer like below first creates the vocabulary by standardizing and ordering all the available terms, assigning a unique index to each (fit), then converts each document into a row of word counts (transform)."
   ]
  },
  {
   "cell_type": "code",
   "execution_count": 9,
   "id": "0c7edb18-b6e2-43b7-8988-3a6357083795",
   "metadata": {},
   "outputs": [
    {
     "data": {
      "text/plain": [
       "(7672, 19056)"
      ]
     },
     "execution_count": 9,
     "metadata": {},
     "output_type": "execute_result"
    }
   ],
   "source": [
    "from sklearn.feature_extraction.text import CountVectorizer\n",
    "\n",
    "cv = CountVectorizer()\n",
    "X = cv.fit_transform(df.documents)\n",
    "X.shape"
   ]
  },
  {
   "cell_type": "markdown",
   "id": "e31f2ebb-7687-4d28-a634-f7e6f1158227",
   "metadata": {},
   "source": [
    "The resultant matrix has number of rows equivalent to the number of documents, and the unique terms extracted are 19056.\n",
    "\n",
    "We can examine the last few words of the vocabulary:"
   ]
  },
  {
   "cell_type": "code",
   "execution_count": 10,
   "id": "ab5db961-45f1-4eba-b360-2ac071aa0a67",
   "metadata": {},
   "outputs": [
    {
     "data": {
      "text/plain": [
       "(19056,\n",
       " array(['zulu', 'zuma', 'zungumza', 'zuri', 'zusha', 'zweli', 'évariste'],\n",
       "       dtype=object))"
      ]
     },
     "execution_count": 10,
     "metadata": {},
     "output_type": "execute_result"
    }
   ],
   "source": [
    "names = cv.get_feature_names_out()\n",
    "len(names), names[-7:]"
   ]
  },
  {
   "cell_type": "markdown",
   "id": "0902be03-015d-4bce-93f0-b6e098ee6eec",
   "metadata": {},
   "source": [
    "We can then create a new dataframe of the document-term matrix as below:"
   ]
  },
  {
   "cell_type": "code",
   "execution_count": 11,
   "id": "4cf3c5ce-85ae-4a27-b4e5-ee473ab6a1c9",
   "metadata": {},
   "outputs": [
    {
     "data": {
      "text/html": [
       "<div>\n",
       "<style scoped>\n",
       "    .dataframe tbody tr th:only-of-type {\n",
       "        vertical-align: middle;\n",
       "    }\n",
       "\n",
       "    .dataframe tbody tr th {\n",
       "        vertical-align: top;\n",
       "    }\n",
       "\n",
       "    .dataframe thead th {\n",
       "        text-align: right;\n",
       "    }\n",
       "</style>\n",
       "<table border=\"1\" class=\"dataframe\">\n",
       "  <thead>\n",
       "    <tr style=\"text-align: right;\">\n",
       "      <th></th>\n",
       "      <th>00</th>\n",
       "      <th>000</th>\n",
       "      <th>002</th>\n",
       "      <th>01</th>\n",
       "      <th>02</th>\n",
       "      <th>023</th>\n",
       "      <th>041</th>\n",
       "      <th>043</th>\n",
       "      <th>052</th>\n",
       "      <th>069</th>\n",
       "      <th>...</th>\n",
       "      <th>zubaidi</th>\n",
       "      <th>zubeir</th>\n",
       "      <th>zuio</th>\n",
       "      <th>zulu</th>\n",
       "      <th>zuma</th>\n",
       "      <th>zungumza</th>\n",
       "      <th>zuri</th>\n",
       "      <th>zusha</th>\n",
       "      <th>zweli</th>\n",
       "      <th>évariste</th>\n",
       "    </tr>\n",
       "  </thead>\n",
       "  <tbody>\n",
       "    <tr>\n",
       "      <th>0</th>\n",
       "      <td>0</td>\n",
       "      <td>0</td>\n",
       "      <td>0</td>\n",
       "      <td>0</td>\n",
       "      <td>0</td>\n",
       "      <td>0</td>\n",
       "      <td>0</td>\n",
       "      <td>0</td>\n",
       "      <td>0</td>\n",
       "      <td>0</td>\n",
       "      <td>...</td>\n",
       "      <td>0</td>\n",
       "      <td>0</td>\n",
       "      <td>0</td>\n",
       "      <td>0</td>\n",
       "      <td>0</td>\n",
       "      <td>0</td>\n",
       "      <td>0</td>\n",
       "      <td>0</td>\n",
       "      <td>0</td>\n",
       "      <td>0</td>\n",
       "    </tr>\n",
       "    <tr>\n",
       "      <th>1</th>\n",
       "      <td>0</td>\n",
       "      <td>0</td>\n",
       "      <td>0</td>\n",
       "      <td>0</td>\n",
       "      <td>0</td>\n",
       "      <td>0</td>\n",
       "      <td>0</td>\n",
       "      <td>0</td>\n",
       "      <td>0</td>\n",
       "      <td>0</td>\n",
       "      <td>...</td>\n",
       "      <td>0</td>\n",
       "      <td>0</td>\n",
       "      <td>0</td>\n",
       "      <td>0</td>\n",
       "      <td>0</td>\n",
       "      <td>0</td>\n",
       "      <td>0</td>\n",
       "      <td>0</td>\n",
       "      <td>0</td>\n",
       "      <td>0</td>\n",
       "    </tr>\n",
       "    <tr>\n",
       "      <th>2</th>\n",
       "      <td>0</td>\n",
       "      <td>0</td>\n",
       "      <td>0</td>\n",
       "      <td>0</td>\n",
       "      <td>0</td>\n",
       "      <td>0</td>\n",
       "      <td>0</td>\n",
       "      <td>0</td>\n",
       "      <td>0</td>\n",
       "      <td>0</td>\n",
       "      <td>...</td>\n",
       "      <td>0</td>\n",
       "      <td>0</td>\n",
       "      <td>0</td>\n",
       "      <td>0</td>\n",
       "      <td>0</td>\n",
       "      <td>0</td>\n",
       "      <td>0</td>\n",
       "      <td>0</td>\n",
       "      <td>0</td>\n",
       "      <td>0</td>\n",
       "    </tr>\n",
       "    <tr>\n",
       "      <th>3</th>\n",
       "      <td>0</td>\n",
       "      <td>0</td>\n",
       "      <td>0</td>\n",
       "      <td>0</td>\n",
       "      <td>0</td>\n",
       "      <td>0</td>\n",
       "      <td>0</td>\n",
       "      <td>0</td>\n",
       "      <td>0</td>\n",
       "      <td>0</td>\n",
       "      <td>...</td>\n",
       "      <td>0</td>\n",
       "      <td>0</td>\n",
       "      <td>0</td>\n",
       "      <td>0</td>\n",
       "      <td>0</td>\n",
       "      <td>0</td>\n",
       "      <td>0</td>\n",
       "      <td>0</td>\n",
       "      <td>0</td>\n",
       "      <td>0</td>\n",
       "    </tr>\n",
       "    <tr>\n",
       "      <th>4</th>\n",
       "      <td>0</td>\n",
       "      <td>0</td>\n",
       "      <td>0</td>\n",
       "      <td>0</td>\n",
       "      <td>0</td>\n",
       "      <td>0</td>\n",
       "      <td>0</td>\n",
       "      <td>0</td>\n",
       "      <td>0</td>\n",
       "      <td>0</td>\n",
       "      <td>...</td>\n",
       "      <td>0</td>\n",
       "      <td>0</td>\n",
       "      <td>0</td>\n",
       "      <td>0</td>\n",
       "      <td>0</td>\n",
       "      <td>0</td>\n",
       "      <td>0</td>\n",
       "      <td>0</td>\n",
       "      <td>0</td>\n",
       "      <td>0</td>\n",
       "    </tr>\n",
       "  </tbody>\n",
       "</table>\n",
       "<p>5 rows × 19056 columns</p>\n",
       "</div>"
      ],
      "text/plain": [
       "   00  000  002  01  02  023  041  043  052  069  ...  zubaidi  zubeir  zuio  \\\n",
       "0   0    0    0   0   0    0    0    0    0    0  ...        0       0     0   \n",
       "1   0    0    0   0   0    0    0    0    0    0  ...        0       0     0   \n",
       "2   0    0    0   0   0    0    0    0    0    0  ...        0       0     0   \n",
       "3   0    0    0   0   0    0    0    0    0    0  ...        0       0     0   \n",
       "4   0    0    0   0   0    0    0    0    0    0  ...        0       0     0   \n",
       "\n",
       "   zulu  zuma  zungumza  zuri  zusha  zweli  évariste  \n",
       "0     0     0         0     0      0      0         0  \n",
       "1     0     0         0     0      0      0         0  \n",
       "2     0     0         0     0      0      0         0  \n",
       "3     0     0         0     0      0      0         0  \n",
       "4     0     0         0     0      0      0         0  \n",
       "\n",
       "[5 rows x 19056 columns]"
      ]
     },
     "execution_count": 11,
     "metadata": {},
     "output_type": "execute_result"
    }
   ],
   "source": [
    "df_docs = pd.DataFrame(X.toarray(), columns=names)\n",
    "df_docs.head()"
   ]
  },
  {
   "cell_type": "markdown",
   "id": "b82c4b6e-bfaa-4140-9939-91d31e68c26d",
   "metadata": {},
   "source": [
    "The document-term matrix is a sparse matrix because most words do not occur in most documents, therefore most of the counts will be zero.\n",
    "\n",
    "Looking at the first document, we can filter out the non-zero values to see the count of words that exist in it."
   ]
  },
  {
   "cell_type": "code",
   "execution_count": 12,
   "id": "29b3159f-b428-4882-bb51-1e2b815b4ad0",
   "metadata": {},
   "outputs": [
    {
     "data": {
      "text/plain": [
       "14            1\n",
       "19            1\n",
       "afya          1\n",
       "covid         1\n",
       "imeripoti     1\n",
       "jumatatu      1\n",
       "kuwa          1\n",
       "maambukizi    1\n",
       "takriban      1\n",
       "tanzania      1\n",
       "wamepata      1\n",
       "watu          1\n",
       "wizara        1\n",
       "ya            3\n",
       "zaidi         1\n",
       "Name: 0, dtype: int64"
      ]
     },
     "execution_count": 12,
     "metadata": {},
     "output_type": "execute_result"
    }
   ],
   "source": [
    "first_doc = df_docs.loc[0]\n",
    "first_doc[first_doc > 0]"
   ]
  },
  {
   "cell_type": "code",
   "execution_count": 13,
   "id": "15ece7d3-37fd-4468-80b4-6b991a2d8fcc",
   "metadata": {},
   "outputs": [
    {
     "data": {
      "text/plain": [
       "documents    Wizara ya afya ya Tanzania imeripoti Jumatatu kuwa, watu takriban 14 zaidi wamepata maambukizi ya Covid-19.\n",
       "Name: 0, dtype: object"
      ]
     },
     "execution_count": 13,
     "metadata": {},
     "output_type": "execute_result"
    }
   ],
   "source": [
    "df.loc[0]"
   ]
  },
  {
   "cell_type": "markdown",
   "id": "19b6e45f-5eb0-479e-921b-640a66902522",
   "metadata": {},
   "source": [
    "##### Query-Document similarity\n",
    "\n",
    "To search the documents using the query, we need to first need to transform the query using the same vectorizer as the documents. This maps the query to the same vector space; the length of the resulting vector matches the vocabulary size and each index in it contains the count of the specific term in the query."
   ]
  },
  {
   "cell_type": "code",
   "execution_count": 14,
   "id": "cec05222-297e-4a60-bce9-40515743e8d1",
   "metadata": {},
   "outputs": [
    {
     "data": {
      "text/plain": [
       "(1, 19056)"
      ]
     },
     "execution_count": 14,
     "metadata": {},
     "output_type": "execute_result"
    }
   ],
   "source": [
    "q = cv.transform([query])\n",
    "df_query = pd.DataFrame(q.toarray(), columns=names)\n",
    "df_query.shape"
   ]
  },
  {
   "cell_type": "markdown",
   "id": "944b2979-26d7-4bed-90cf-8c9d9962b5af",
   "metadata": {},
   "source": [
    "Most values are expected to be zeros as well."
   ]
  },
  {
   "cell_type": "code",
   "execution_count": 15,
   "id": "b9f2b80e-707d-4eee-837e-5af334346929",
   "metadata": {},
   "outputs": [
    {
     "data": {
      "text/plain": [
       "afrika         1\n",
       "afya           1\n",
       "corona         1\n",
       "janga          1\n",
       "kukabiliana    1\n",
       "kutafuta       1\n",
       "la             2\n",
       "na             2\n",
       "nchi           1\n",
       "njia           1\n",
       "shirika        1\n",
       "za             2\n",
       "Name: 0, dtype: int64"
      ]
     },
     "execution_count": 15,
     "metadata": {},
     "output_type": "execute_result"
    }
   ],
   "source": [
    "encoded_query = df_query.loc[0]\n",
    "encoded_query[encoded_query > 0]"
   ]
  },
  {
   "cell_type": "markdown",
   "id": "1c4fecac-520b-4325-b32a-da8d3cb5369e",
   "metadata": {},
   "source": [
    "The more the common words and counts between query and document, the more similar they are. We use [dot product][4] to calculate the score between each document and query, then rank by score. The closer the vectors of the query and a particular document in the vector space are, the higher the dot-product.\n",
    "\n",
    "For example, dot product between query and first document:\n",
    "\n",
    "[4]: https://www.mathsisfun.com/algebra/vectors-dot-product.html"
   ]
  },
  {
   "cell_type": "code",
   "execution_count": 16,
   "id": "e2501199-e566-4624-aa66-1b4662a10dad",
   "metadata": {},
   "outputs": [
    {
     "data": {
      "text/plain": [
       "np.int64(1)"
      ]
     },
     "execution_count": 16,
     "metadata": {},
     "output_type": "execute_result"
    }
   ],
   "source": [
    "(first_doc * encoded_query).sum()"
   ]
  },
  {
   "cell_type": "markdown",
   "id": "7a9d04dc-ab00-4252-bd1e-fc4b029cba9b",
   "metadata": {},
   "source": [
    "Across all the docs:"
   ]
  },
  {
   "cell_type": "code",
   "execution_count": 17,
   "id": "f36b9c54-3d87-4a66-b93c-a8f04c7db506",
   "metadata": {},
   "outputs": [
    {
     "data": {
      "text/plain": [
       "(7672,)"
      ]
     },
     "execution_count": 17,
     "metadata": {},
     "output_type": "execute_result"
    }
   ],
   "source": [
    "query_vector = q.toarray().flatten()\n",
    "score = X.dot(query_vector)\n",
    "score.shape"
   ]
  },
  {
   "cell_type": "markdown",
   "id": "c138d3b4-07a3-47a7-9a68-50f824e3749f",
   "metadata": {},
   "source": [
    "The score vector has the resulting dot products for each document. We identify the index of the highest one:"
   ]
  },
  {
   "cell_type": "code",
   "execution_count": 18,
   "id": "ab3a70ea-56ce-4722-a365-f2cc32e708a6",
   "metadata": {},
   "outputs": [
    {
     "data": {
      "text/plain": [
       "(np.int64(2433), np.int64(30))"
      ]
     },
     "execution_count": 18,
     "metadata": {},
     "output_type": "execute_result"
    }
   ],
   "source": [
    "score.argmax(), score[2433]"
   ]
  },
  {
   "cell_type": "markdown",
   "id": "497ab467-8f44-430e-9659-77b040916601",
   "metadata": {},
   "source": [
    "The highest match is document at index 2433, with a score of 30.\n",
    "\n",
    "We identify the particular document from the dataframe."
   ]
  },
  {
   "cell_type": "code",
   "execution_count": 19,
   "id": "e254f5da-fc3b-4ddc-986f-05af6f27ae15",
   "metadata": {},
   "outputs": [
    {
     "data": {
      "text/plain": [
       "'”  Swali la msingi la Mueller  Swali la msingi la Mueller, mkurugenzi wa zamani wa FBI, ambalo anatafuta majibu : Ni iwapo Trump na wasaidizi wake walishirikiana na Warusi kuchafua kampeni ya mgombea wa chama cha Demokrat Hillary Clinton, mwaka 2016, kwa kutuma barua pepe zenye kudhalilisha zilizoibiwa kutoka Kamati ya Taifa ya chama cha Demokrat na mwenyekiti wa kampeni ya Clinton? Au iwapo Trump alikuwa amenufaika bila ya kukusudia na mbinu chafu za Russia? Na iwapo rais alijaribu kuharibu uchunguzi uliofuatia ili kujilinda yeye mwenyewe na washauri wa kisiasa na wasaidizi wake?  Huu ndio ujumbe wa Idara ya Sheria kwa bunge la Congress juu ya hitimisho la uchunguzi uliofanywa na Mueller.'"
      ]
     },
     "execution_count": 19,
     "metadata": {},
     "output_type": "execute_result"
    }
   ],
   "source": [
    "df.documents[2433]"
   ]
  },
  {
   "cell_type": "markdown",
   "id": "9c879d90-30b8-498d-9017-01e8c0d76876",
   "metadata": {},
   "source": [
    "We can show the topN results ranked from highest to lowest score:"
   ]
  },
  {
   "cell_type": "code",
   "execution_count": 20,
   "id": "acbceea7-f682-4514-a927-2d44a6a07ce3",
   "metadata": {},
   "outputs": [],
   "source": [
    "top_idx = np.argsort(-score)[:10]"
   ]
  },
  {
   "cell_type": "code",
   "execution_count": 21,
   "id": "4bbd44c3-92df-4764-bc48-e69837873f20",
   "metadata": {},
   "outputs": [
    {
     "data": {
      "text/html": [
       "<div>\n",
       "<style scoped>\n",
       "    .dataframe tbody tr th:only-of-type {\n",
       "        vertical-align: middle;\n",
       "    }\n",
       "\n",
       "    .dataframe tbody tr th {\n",
       "        vertical-align: top;\n",
       "    }\n",
       "\n",
       "    .dataframe thead th {\n",
       "        text-align: right;\n",
       "    }\n",
       "</style>\n",
       "<table border=\"1\" class=\"dataframe\">\n",
       "  <thead>\n",
       "    <tr style=\"text-align: right;\">\n",
       "      <th></th>\n",
       "      <th>documents</th>\n",
       "    </tr>\n",
       "  </thead>\n",
       "  <tbody>\n",
       "    <tr>\n",
       "      <th>2433</th>\n",
       "      <td>”  Swali la msingi la Mueller  Swali la msingi la Mueller, mkurugenzi wa zamani wa FBI, ambalo anatafuta majibu : Ni iwapo Trump na wasaidizi wake walishirikiana na Warusi kuchafua kampeni ya mgombea wa chama cha Demokrat Hillary Clinton, mwaka 2016, kwa kutuma barua pepe zenye kudhalilisha zilizoibiwa kutoka Kamati ya Taifa ya chama cha Demokrat na mwenyekiti wa kampeni ya Clinton? Au iwapo Trump alikuwa amenufaika bila ya kukusudia na mbinu chafu za Russia? Na iwapo rais alijaribu kuharibu uchunguzi uliofuatia ili kujilinda yeye mwenyewe na washauri wa kisiasa na wasaidizi wake?  Huu ndio ujumbe wa Idara ya Sheria kwa bunge la Congress juu ya hitimisho la uchunguzi uliofanywa na Mueller.</td>\n",
       "    </tr>\n",
       "    <tr>\n",
       "      <th>6107</th>\n",
       "      <td>Lissu ameongeza kwamba “Kwa kutumia njia hizo za amri za kisiasa, vyombo vya ulinzi na usalama vikiwemo jeshi la wananchi la Tanzania, jeshi la polisi, taasisi ya kuzuia na kupambana na rushwa, na idara ya usalama wa taifa pamoja na mamlaka ya kodi TRA, vinatumika kukamata kwa nguvu na kutaifisha mali za wafanyabiashara wetu wa ndani na makampuni ya wawekezaji kutoka nje.</td>\n",
       "    </tr>\n",
       "    <tr>\n",
       "      <th>968</th>\n",
       "      <td>Akizungumza na shirika la habari la AFP Akram Taher mumini moja amesema “Sherehe za Eid hazifani manmo wakati huu wa hali ya janga la corona – watu wanahisia ya kua na hofu”  Bara la Asia  Waislam katika bara la Asia – kutoka Indonesia hadi Pakistan, Malaysia na Afghanistan – wamekusanyika katika masoko katika shamrashamra za manunuzi ya sikukuu, wakikiuka muongozo wa kudhibiti virusi vya corona na wakati mwengine polisi wakijaribu kutawanya mikusanyiko ya makundi makubwa.</td>\n",
       "    </tr>\n",
       "    <tr>\n",
       "      <th>530</th>\n",
       "      <td>Changamoto za uokozi  Msemaji wa shirika la kimataifa la msalaba mwekundu Caroline Haga ameliambia shirika la habari la AFP kwamba wafanyakazi wa uokozi wanakabiliwa na changamoto kubwa kuwafikia wanaohitaji msaada na wana wasiwasi na huzuni, kwani siku ya Jumanne walifanikiwa kuwaokoa watu 167 na kwamba muda unakimbia haraka sana na watu bado wamekwama na wako hatarini.</td>\n",
       "    </tr>\n",
       "    <tr>\n",
       "      <th>842</th>\n",
       "      <td>“Wakati hatuamini kuwa katika hatua hii, hali hiyo inahitaji kupitishwa azimio, kuna dalili zote za kututahadharisha kuwa mgogoro wa kuminywa kwa haki za binadamu unafukuta,” imesema barua hiyo, ambayo imesainiwa na Mtandao wa kutetea haki za binadamu wa Bara la Afrika, Shirika la Amnesty International, Shirika la ARTICLE 19, Shirika la Asian Forum for Human Rights and Development, Kituo cha Centre for Civil Liberties – Ukraine, Human Rights Watch na Tume ya International Commission of Jurists na taasisi nyingine.</td>\n",
       "    </tr>\n",
       "    <tr>\n",
       "      <th>5142</th>\n",
       "      <td>Rais Trump  Rais wa Marekani Donald Trump, anasema Biden, “amerusha baruti katika moto, na anajukumu la kutoa maelezo kwa watu wa Marekani juu ya mkakati na mpango wa kuhakikisha vikosi vyetu na wafanyakazi wa ubalozi, watu wetu na maslahi yetu, yote hapa nchini na nchi za nje, na washirika wetu katika eneo lote la Mashariki ya Kati na maeneo mengine.</td>\n",
       "    </tr>\n",
       "    <tr>\n",
       "      <th>5682</th>\n",
       "      <td>”  Ogwell amesema taasisi yake, ambayo ni shirika la ushauri wa kifundi la Umoja wa Afrika, anashirikiana na AU kuzijengea uwezo wa utayari nchi mbalimbali katika maeneo makuu matatu, ikiwemo kuboresha utoaji tahadhari katika bandari za nchi hizo na mahospitali; kuongeza utaalamu wa kuweza kupima kirusi COVID-19, ambao tayari nchi 43 wanauwezo huo; na kujenga uwezo wa kuzuia maambukizi na kudhibiti hali hiyo ili wagonjwa wenye maambukizi waweze kuwekewa karantini na kufuatiliwa.</td>\n",
       "    </tr>\n",
       "    <tr>\n",
       "      <th>4934</th>\n",
       "      <td>Morales alisema : \"Kaka na dada zangu nchini Bolivia na ulimwenguni kote, nawafahamisha niko hapa na Makamu wa Rais na Waziri wa Afya, na baada ya kuwasilikiliza rafiki zangu kutoka shirikisho la vuguvugu la kijamii na shirikisho la umoja wa kibiashara na pia kwa kusikiliza Kanisa Katoliki, natangaza kujiuzulu wadhifa wangu wa urais.</td>\n",
       "    </tr>\n",
       "    <tr>\n",
       "      <th>7355</th>\n",
       "      <td>Kiongozi huyo wa cheo cha juu katika nchi za falme za kiarabu aliwaambia waandishi wa habari alisikiliza mtazamo wa Jenerali Abdel Fattah Burhan kuhusu matatizo ya Sudan na yeye alimweleza mtazamo wa umoja wa falme za kiarabu kuhusiana na hali hii ya kisiasa nchini Sudan Katibu mkuu wa umoja wa nchi za falme za kiarabu alifanya mazungumzo mjini Khartoum Jumapili na baraza la jeshi linalotawala Sudan.</td>\n",
       "    </tr>\n",
       "    <tr>\n",
       "      <th>5437</th>\n",
       "      <td>Pamoja na kuwa wanashirikiana katika mipaka yao na kuwepo kwao katika wigo la kiuchumi la pamoja, nchi za Afrika Mashariki zinakuwa na hisia kali baina yao zinazotokana na tofauti zao za kiuchumi na kisiasa.</td>\n",
       "    </tr>\n",
       "  </tbody>\n",
       "</table>\n",
       "</div>"
      ],
      "text/plain": [
       "                                                                                                                                                                                                                                                                                                                                                                                                                                                                                                                                                                                                                                                                                                                       documents\n",
       "2433  ”  Swali la msingi la Mueller  Swali la msingi la Mueller, mkurugenzi wa zamani wa FBI, ambalo anatafuta majibu : Ni iwapo Trump na wasaidizi wake walishirikiana na Warusi kuchafua kampeni ya mgombea wa chama cha Demokrat Hillary Clinton, mwaka 2016, kwa kutuma barua pepe zenye kudhalilisha zilizoibiwa kutoka Kamati ya Taifa ya chama cha Demokrat na mwenyekiti wa kampeni ya Clinton? Au iwapo Trump alikuwa amenufaika bila ya kukusudia na mbinu chafu za Russia? Na iwapo rais alijaribu kuharibu uchunguzi uliofuatia ili kujilinda yeye mwenyewe na washauri wa kisiasa na wasaidizi wake?  Huu ndio ujumbe wa Idara ya Sheria kwa bunge la Congress juu ya hitimisho la uchunguzi uliofanywa na Mueller.\n",
       "6107                                                                                                                                                                                                                                                                                                                                      Lissu ameongeza kwamba “Kwa kutumia njia hizo za amri za kisiasa, vyombo vya ulinzi na usalama vikiwemo jeshi la wananchi la Tanzania, jeshi la polisi, taasisi ya kuzuia na kupambana na rushwa, na idara ya usalama wa taifa pamoja na mamlaka ya kodi TRA, vinatumika kukamata kwa nguvu na kutaifisha mali za wafanyabiashara wetu wa ndani na makampuni ya wawekezaji kutoka nje.\n",
       "968                                                                                                                                                                                                                                Akizungumza na shirika la habari la AFP Akram Taher mumini moja amesema “Sherehe za Eid hazifani manmo wakati huu wa hali ya janga la corona – watu wanahisia ya kua na hofu”  Bara la Asia  Waislam katika bara la Asia – kutoka Indonesia hadi Pakistan, Malaysia na Afghanistan – wamekusanyika katika masoko katika shamrashamra za manunuzi ya sikukuu, wakikiuka muongozo wa kudhibiti virusi vya corona na wakati mwengine polisi wakijaribu kutawanya mikusanyiko ya makundi makubwa.\n",
       "530                                                                                                                                                                                                                                                                                                                                        Changamoto za uokozi  Msemaji wa shirika la kimataifa la msalaba mwekundu Caroline Haga ameliambia shirika la habari la AFP kwamba wafanyakazi wa uokozi wanakabiliwa na changamoto kubwa kuwafikia wanaohitaji msaada na wana wasiwasi na huzuni, kwani siku ya Jumanne walifanikiwa kuwaokoa watu 167 na kwamba muda unakimbia haraka sana na watu bado wamekwama na wako hatarini.\n",
       "842                                                                                                                                                                                      “Wakati hatuamini kuwa katika hatua hii, hali hiyo inahitaji kupitishwa azimio, kuna dalili zote za kututahadharisha kuwa mgogoro wa kuminywa kwa haki za binadamu unafukuta,” imesema barua hiyo, ambayo imesainiwa na Mtandao wa kutetea haki za binadamu wa Bara la Afrika, Shirika la Amnesty International, Shirika la ARTICLE 19, Shirika la Asian Forum for Human Rights and Development, Kituo cha Centre for Civil Liberties – Ukraine, Human Rights Watch na Tume ya International Commission of Jurists na taasisi nyingine.\n",
       "5142                                                                                                                                                                                                                                                                                                                                                           Rais Trump  Rais wa Marekani Donald Trump, anasema Biden, “amerusha baruti katika moto, na anajukumu la kutoa maelezo kwa watu wa Marekani juu ya mkakati na mpango wa kuhakikisha vikosi vyetu na wafanyakazi wa ubalozi, watu wetu na maslahi yetu, yote hapa nchini na nchi za nje, na washirika wetu katika eneo lote la Mashariki ya Kati na maeneo mengine.\n",
       "5682                                                                                                                                                                                                                         ”  Ogwell amesema taasisi yake, ambayo ni shirika la ushauri wa kifundi la Umoja wa Afrika, anashirikiana na AU kuzijengea uwezo wa utayari nchi mbalimbali katika maeneo makuu matatu, ikiwemo kuboresha utoaji tahadhari katika bandari za nchi hizo na mahospitali; kuongeza utaalamu wa kuweza kupima kirusi COVID-19, ambao tayari nchi 43 wanauwezo huo; na kujenga uwezo wa kuzuia maambukizi na kudhibiti hali hiyo ili wagonjwa wenye maambukizi waweze kuwekewa karantini na kufuatiliwa.\n",
       "4934                                                                                                                                                                                                                                                                                                                                                                             Morales alisema : \"Kaka na dada zangu nchini Bolivia na ulimwenguni kote, nawafahamisha niko hapa na Makamu wa Rais na Waziri wa Afya, na baada ya kuwasilikiliza rafiki zangu kutoka shirikisho la vuguvugu la kijamii na shirikisho la umoja wa kibiashara na pia kwa kusikiliza Kanisa Katoliki, natangaza kujiuzulu wadhifa wangu wa urais.\n",
       "7355                                                                                                                                                                                                                                                                                                         Kiongozi huyo wa cheo cha juu katika nchi za falme za kiarabu aliwaambia waandishi wa habari alisikiliza mtazamo wa Jenerali Abdel Fattah Burhan kuhusu matatizo ya Sudan na yeye alimweleza mtazamo wa umoja wa falme za kiarabu kuhusiana na hali hii ya kisiasa nchini Sudan Katibu mkuu wa umoja wa nchi za falme za kiarabu alifanya mazungumzo mjini Khartoum Jumapili na baraza la jeshi linalotawala Sudan.\n",
       "5437                                                                                                                                                                                                                                                                                                                                                                                                                                                                                                             Pamoja na kuwa wanashirikiana katika mipaka yao na kuwepo kwao katika wigo la kiuchumi la pamoja, nchi za Afrika Mashariki zinakuwa na hisia kali baina yao zinazotokana na tofauti zao za kiuchumi na kisiasa."
      ]
     },
     "execution_count": 21,
     "metadata": {},
     "output_type": "execute_result"
    }
   ],
   "source": [
    "df.iloc[top_idx]"
   ]
  },
  {
   "cell_type": "markdown",
   "id": "f21112bb-db9b-4adb-8c2e-a0b814bfa602",
   "metadata": {},
   "source": [
    "The results don't look to relevant, probably because they just happen to be long sentences that contain some words from the query several times. The dot product is sensitive to vector magnitudes, so longer sentences are likely to score higher just because they have a higher count of words in the query."
   ]
  },
  {
   "cell_type": "markdown",
   "id": "c6501196-face-4088-b731-2af42847a86d",
   "metadata": {},
   "source": [
    "[Cosine similarity][6] normalizes for magnitude of the vectors making the score less sensitive to the absolute counts of similar terms.\n",
    "\n",
    "We show results for cosine similarity:\n",
    "\n",
    "[6]: https://web.archive.org/web/20191213082655/https://www.sciencedirect.com/topics/computer-science/cosine-similarity"
   ]
  },
  {
   "cell_type": "code",
   "execution_count": 22,
   "id": "488529ba-c5f0-40c4-bafc-73cffbaeee57",
   "metadata": {},
   "outputs": [
    {
     "data": {
      "text/html": [
       "<div>\n",
       "<style scoped>\n",
       "    .dataframe tbody tr th:only-of-type {\n",
       "        vertical-align: middle;\n",
       "    }\n",
       "\n",
       "    .dataframe tbody tr th {\n",
       "        vertical-align: top;\n",
       "    }\n",
       "\n",
       "    .dataframe thead th {\n",
       "        text-align: right;\n",
       "    }\n",
       "</style>\n",
       "<table border=\"1\" class=\"dataframe\">\n",
       "  <thead>\n",
       "    <tr style=\"text-align: right;\">\n",
       "      <th></th>\n",
       "      <th>documents</th>\n",
       "    </tr>\n",
       "  </thead>\n",
       "  <tbody>\n",
       "    <tr>\n",
       "      <th>5437</th>\n",
       "      <td>Pamoja na kuwa wanashirikiana katika mipaka yao na kuwepo kwao katika wigo la kiuchumi la pamoja, nchi za Afrika Mashariki zinakuwa na hisia kali baina yao zinazotokana na tofauti zao za kiuchumi na kisiasa.</td>\n",
       "    </tr>\n",
       "    <tr>\n",
       "      <th>3022</th>\n",
       "      <td>“Inasikitisha kwamba nchi kadhaa duniani na mashirika mbalimbali, ikiwemo Marekani, China na shirika la afya duniani, yanakabiliwa na tishio la maambukizi ya Corona.</td>\n",
       "    </tr>\n",
       "    <tr>\n",
       "      <th>4808</th>\n",
       "      <td>Amesema \"mwanzoni tulizungumza kujifunza kutoka uzoefu wa nchi nyingine katika kupambana na janga la corona, sasa tunazungumzwa na nchi nyingine kama kielelezo hasi cha vita dhidi ya janga la corona Afrika na duniani.</td>\n",
       "    </tr>\n",
       "    <tr>\n",
       "      <th>664</th>\n",
       "      <td>Amesema \"mwanzoni tulizungumza kujifunza kutoka uzoefu wa nchi nyingine katika kupambana na janga la corona, sasa tunazungumzwa na nchi nyingine kama kielelezo hasi cha vita dhidi ya janga la corona Afrika na duniani.</td>\n",
       "    </tr>\n",
       "    <tr>\n",
       "      <th>6369</th>\n",
       "      <td>Mkurugenzi Mkuu wa Shirika la Afya Duniani Tedros Adhanom Ghebreyesus, ameonya kufungwa kwa mipaka ya nchi na kusitisha shughuli zote ili kupambana na janga la COVID 19 kunaweza kusababisha kuongezeka kwa vifo kutokana na ugonjwa wa Malaria katika nchi za Afrika.</td>\n",
       "    </tr>\n",
       "    <tr>\n",
       "      <th>4571</th>\n",
       "      <td>Shahidi mmoja aliliambia shirika la habari la Reuters katika wiki kadhaa za karibuni za maandamano yanayoipinga serikali yaliyochochewa na malalamiko ya kiuchumi na kisiasa.</td>\n",
       "    </tr>\n",
       "    <tr>\n",
       "      <th>6182</th>\n",
       "      <td>Ndege za kijeshi za India, zilivuka mpaka na kuingia katika nchi jirani ya Pakisan na kutekeleza mashambulizi dhidi ya kambi iliyodaiwa kuwa ya kutoa mafunzi kwa kundi la wanamgambo la Jaish-e-Mohammad, lililoripotiwa kuhusika na shambulizi la bomu la Kashmir.</td>\n",
       "    </tr>\n",
       "    <tr>\n",
       "      <th>6107</th>\n",
       "      <td>Lissu ameongeza kwamba “Kwa kutumia njia hizo za amri za kisiasa, vyombo vya ulinzi na usalama vikiwemo jeshi la wananchi la Tanzania, jeshi la polisi, taasisi ya kuzuia na kupambana na rushwa, na idara ya usalama wa taifa pamoja na mamlaka ya kodi TRA, vinatumika kukamata kwa nguvu na kutaifisha mali za wafanyabiashara wetu wa ndani na makampuni ya wawekezaji kutoka nje.</td>\n",
       "    </tr>\n",
       "    <tr>\n",
       "      <th>3191</th>\n",
       "      <td>SAA, shirika kubwa la ndege la Afrika liliingia katika mpango wa kujilinda kutokana na hali ya kufilisika mwezi Disemba 2019, na tangu wakati huo lililazimika kusitisha safari zake zote za abiria kutokana na janga la virusi vya korona kote duniani.</td>\n",
       "    </tr>\n",
       "    <tr>\n",
       "      <th>4993</th>\n",
       "      <td>Shirika la habari la China Xinhua linasema kutakuwa na karibu safari 200 za ndege kuingia na kutoka Wuhan Jumatano.</td>\n",
       "    </tr>\n",
       "  </tbody>\n",
       "</table>\n",
       "</div>"
      ],
      "text/plain": [
       "                                                                                                                                                                                                                                                                                                                                                                                   documents\n",
       "5437                                                                                                                                                                         Pamoja na kuwa wanashirikiana katika mipaka yao na kuwepo kwao katika wigo la kiuchumi la pamoja, nchi za Afrika Mashariki zinakuwa na hisia kali baina yao zinazotokana na tofauti zao za kiuchumi na kisiasa.\n",
       "3022                                                                                                                                                                                                                   “Inasikitisha kwamba nchi kadhaa duniani na mashirika mbalimbali, ikiwemo Marekani, China na shirika la afya duniani, yanakabiliwa na tishio la maambukizi ya Corona.\n",
       "4808                                                                                                                                                               Amesema \"mwanzoni tulizungumza kujifunza kutoka uzoefu wa nchi nyingine katika kupambana na janga la corona, sasa tunazungumzwa na nchi nyingine kama kielelezo hasi cha vita dhidi ya janga la corona Afrika na duniani.\n",
       "664                                                                                                                                                                Amesema \"mwanzoni tulizungumza kujifunza kutoka uzoefu wa nchi nyingine katika kupambana na janga la corona, sasa tunazungumzwa na nchi nyingine kama kielelezo hasi cha vita dhidi ya janga la corona Afrika na duniani.\n",
       "6369                                                                                                                 Mkurugenzi Mkuu wa Shirika la Afya Duniani Tedros Adhanom Ghebreyesus, ameonya kufungwa kwa mipaka ya nchi na kusitisha shughuli zote ili kupambana na janga la COVID 19 kunaweza kusababisha kuongezeka kwa vifo kutokana na ugonjwa wa Malaria katika nchi za Afrika.\n",
       "4571                                                                                                                                                                                                           Shahidi mmoja aliliambia shirika la habari la Reuters katika wiki kadhaa za karibuni za maandamano yanayoipinga serikali yaliyochochewa na malalamiko ya kiuchumi na kisiasa.\n",
       "6182                                                                                                                    Ndege za kijeshi za India, zilivuka mpaka na kuingia katika nchi jirani ya Pakisan na kutekeleza mashambulizi dhidi ya kambi iliyodaiwa kuwa ya kutoa mafunzi kwa kundi la wanamgambo la Jaish-e-Mohammad, lililoripotiwa kuhusika na shambulizi la bomu la Kashmir.\n",
       "6107  Lissu ameongeza kwamba “Kwa kutumia njia hizo za amri za kisiasa, vyombo vya ulinzi na usalama vikiwemo jeshi la wananchi la Tanzania, jeshi la polisi, taasisi ya kuzuia na kupambana na rushwa, na idara ya usalama wa taifa pamoja na mamlaka ya kodi TRA, vinatumika kukamata kwa nguvu na kutaifisha mali za wafanyabiashara wetu wa ndani na makampuni ya wawekezaji kutoka nje.\n",
       "3191                                                                                                                                SAA, shirika kubwa la ndege la Afrika liliingia katika mpango wa kujilinda kutokana na hali ya kufilisika mwezi Disemba 2019, na tangu wakati huo lililazimika kusitisha safari zake zote za abiria kutokana na janga la virusi vya korona kote duniani.\n",
       "4993                                                                                                                                                                                                                                                                     Shirika la habari la China Xinhua linasema kutakuwa na karibu safari 200 za ndege kuingia na kutoka Wuhan Jumatano."
      ]
     },
     "execution_count": 22,
     "metadata": {},
     "output_type": "execute_result"
    }
   ],
   "source": [
    "from sklearn.metrics.pairwise import cosine_similarity\n",
    "\n",
    "score = cosine_similarity(X, q).flatten()\n",
    "df.iloc[np.argsort(-score)[:10]]"
   ]
  },
  {
   "cell_type": "markdown",
   "id": "ad38b274-2e36-48ce-a287-f7338c50f157",
   "metadata": {},
   "source": [
    "Cosine similarity results in seemingly more relevant results."
   ]
  },
  {
   "cell_type": "markdown",
   "id": "2aafce59-2f40-43b6-97c2-2b9d3c894b4d",
   "metadata": {},
   "source": [
    "We create a generic function for getting search results from the vector space:"
   ]
  },
  {
   "cell_type": "code",
   "execution_count": 23,
   "id": "9c319a77-bf9a-41c4-a676-a872595e13ce",
   "metadata": {},
   "outputs": [],
   "source": [
    "def search(X, query, num_results=10):\n",
    "    score = cosine_similarity(X, query).flatten()\n",
    "    idx = np.argsort(-score)[:num_results]\n",
    "    return df.iloc[idx]"
   ]
  },
  {
   "cell_type": "markdown",
   "id": "29ce4f05-5507-47e6-bb5d-be4381623210",
   "metadata": {},
   "source": [
    "#### TF-IDF Vectorization\n",
    "\n",
    "There are a number of common words like: na, kwa, la, ya, etc, which are common across the entire corpus but are relatively insignificant to the relevance of a particular document to the query.\n",
    "\n",
    "TF-IDF, [term frequency-inverse document frequency][10] in full, minimises the effect of these words. It introduces a new score in place of counts in the document-term matrix that shows how important a term is to the document.\n",
    "\n",
    "The score is calculated by multiplying the *term frequency*: the frequency of the term in relation to other terms in the document, and the *inverse document frequency*: how common the term is across all the documents in the corpus.\n",
    "\n",
    "To do this, we replace the Count Vectorizer with a TfidVectorizer:\n",
    "\n",
    "[10]: https://en.wikipedia.org/wiki/Tf%E2%80%93idf"
   ]
  },
  {
   "cell_type": "code",
   "execution_count": 24,
   "id": "a632ea1c-508d-4427-ab92-2c56d3f69b00",
   "metadata": {},
   "outputs": [],
   "source": [
    "from sklearn.feature_extraction.text import TfidfVectorizer\n",
    "\n",
    "tfv = TfidfVectorizer()\n",
    "X_tfv = tfv.fit_transform(df.documents)\n",
    "q_tfv = tfv.transform([query])\n",
    "names = tfv.get_feature_names_out()"
   ]
  },
  {
   "cell_type": "code",
   "execution_count": 25,
   "id": "18b6236c-253f-40b1-bd9c-675806e156b1",
   "metadata": {},
   "outputs": [
    {
     "data": {
      "text/plain": [
       "14            0.311283\n",
       "19            0.260709\n",
       "afya          0.234890\n",
       "covid         0.273393\n",
       "imeripoti     0.327010\n",
       "jumatatu      0.253012\n",
       "kuwa          0.143414\n",
       "maambukizi    0.222536\n",
       "takriban      0.275575\n",
       "tanzania      0.210560\n",
       "wamepata      0.413453\n",
       "watu          0.161859\n",
       "wizara        0.255201\n",
       "ya            0.216513\n",
       "zaidi         0.186419\n",
       "Name: 0, dtype: float64"
      ]
     },
     "execution_count": 25,
     "metadata": {},
     "output_type": "execute_result"
    }
   ],
   "source": [
    "df_docs = pd.DataFrame(X_tfv.toarray(), columns=names)\n",
    "first_doc = df_docs.loc[0]\n",
    "first_doc[first_doc != 0]"
   ]
  },
  {
   "cell_type": "markdown",
   "id": "1b467362-2f67-455d-98f3-280a45b54556",
   "metadata": {},
   "source": [
    "We no longer have counts, but the tf-idf score.\n",
    "\n",
    "We can now do a search, which show improved results:"
   ]
  },
  {
   "cell_type": "code",
   "execution_count": 26,
   "id": "a76fc6b7-9799-4856-9dfc-05e633c42b74",
   "metadata": {},
   "outputs": [
    {
     "data": {
      "text/html": [
       "<div>\n",
       "<style scoped>\n",
       "    .dataframe tbody tr th:only-of-type {\n",
       "        vertical-align: middle;\n",
       "    }\n",
       "\n",
       "    .dataframe tbody tr th {\n",
       "        vertical-align: top;\n",
       "    }\n",
       "\n",
       "    .dataframe thead th {\n",
       "        text-align: right;\n",
       "    }\n",
       "</style>\n",
       "<table border=\"1\" class=\"dataframe\">\n",
       "  <thead>\n",
       "    <tr style=\"text-align: right;\">\n",
       "      <th></th>\n",
       "      <th>documents</th>\n",
       "    </tr>\n",
       "  </thead>\n",
       "  <tbody>\n",
       "    <tr>\n",
       "      <th>664</th>\n",
       "      <td>Amesema \"mwanzoni tulizungumza kujifunza kutoka uzoefu wa nchi nyingine katika kupambana na janga la corona, sasa tunazungumzwa na nchi nyingine kama kielelezo hasi cha vita dhidi ya janga la corona Afrika na duniani.</td>\n",
       "    </tr>\n",
       "    <tr>\n",
       "      <th>4808</th>\n",
       "      <td>Amesema \"mwanzoni tulizungumza kujifunza kutoka uzoefu wa nchi nyingine katika kupambana na janga la corona, sasa tunazungumzwa na nchi nyingine kama kielelezo hasi cha vita dhidi ya janga la corona Afrika na duniani.</td>\n",
       "    </tr>\n",
       "    <tr>\n",
       "      <th>2574</th>\n",
       "      <td>Mali, nchi yenye huduma mbaya za afya, iliandaa uchaguzi jumapili, licha ya janga la virusi vya Corona.</td>\n",
       "    </tr>\n",
       "    <tr>\n",
       "      <th>6369</th>\n",
       "      <td>Mkurugenzi Mkuu wa Shirika la Afya Duniani Tedros Adhanom Ghebreyesus, ameonya kufungwa kwa mipaka ya nchi na kusitisha shughuli zote ili kupambana na janga la COVID 19 kunaweza kusababisha kuongezeka kwa vifo kutokana na ugonjwa wa Malaria katika nchi za Afrika.</td>\n",
       "    </tr>\n",
       "    <tr>\n",
       "      <th>7116</th>\n",
       "      <td>China imesema Jumatano kuwa uamuzi wa Rais wa Marekani Donald Trump kusitisha ufadhili kwa Shirika la Afya Duniani kutaziathiri nchi zote wakati dunia ikikabiliwa na hatua muhimu ya kupambana na janga la virusi vya corona.</td>\n",
       "    </tr>\n",
       "    <tr>\n",
       "      <th>2311</th>\n",
       "      <td>Hatua hiyo imechukuliwa huku maambukizi yakiendelea kuongezeka kote duniani, na baada ya Shirika la Afya Duniani (WHO) kutangaza maambukizi ya Corona kuwa janga la kimataifa.</td>\n",
       "    </tr>\n",
       "    <tr>\n",
       "      <th>3022</th>\n",
       "      <td>“Inasikitisha kwamba nchi kadhaa duniani na mashirika mbalimbali, ikiwemo Marekani, China na shirika la afya duniani, yanakabiliwa na tishio la maambukizi ya Corona.</td>\n",
       "    </tr>\n",
       "    <tr>\n",
       "      <th>814</th>\n",
       "      <td>Katika ukosoaji wa nadra kwa umma, shirika la afya Duniani-WHO wiki iliyopita lilieleza kwamba katika kupingana na kanuni za kimataifa za afya, Tanzania ilikataa kutoa taarifa za kina za kesi zinazoshukiwa kuwa za Ebola.</td>\n",
       "    </tr>\n",
       "    <tr>\n",
       "      <th>911</th>\n",
       "      <td>Wakati huo huo, Museveni ametangaza mipango ya kuwarudisha Uganda raia wa nchi hiyo ambao wamekwama nchi za nje kutokana na janga la Corona.</td>\n",
       "    </tr>\n",
       "    <tr>\n",
       "      <th>1020</th>\n",
       "      <td>Kwa mujibu wa shirika la habari la Uingereza Reuters hisa za shirika la ndege la Ujerumani Luftansa zilipanda kwa asilimia 6.</td>\n",
       "    </tr>\n",
       "  </tbody>\n",
       "</table>\n",
       "</div>"
      ],
      "text/plain": [
       "                                                                                                                                                                                                                                                                    documents\n",
       "664                                                 Amesema \"mwanzoni tulizungumza kujifunza kutoka uzoefu wa nchi nyingine katika kupambana na janga la corona, sasa tunazungumzwa na nchi nyingine kama kielelezo hasi cha vita dhidi ya janga la corona Afrika na duniani.\n",
       "4808                                                Amesema \"mwanzoni tulizungumza kujifunza kutoka uzoefu wa nchi nyingine katika kupambana na janga la corona, sasa tunazungumzwa na nchi nyingine kama kielelezo hasi cha vita dhidi ya janga la corona Afrika na duniani.\n",
       "2574                                                                                                                                                                  Mali, nchi yenye huduma mbaya za afya, iliandaa uchaguzi jumapili, licha ya janga la virusi vya Corona.\n",
       "6369  Mkurugenzi Mkuu wa Shirika la Afya Duniani Tedros Adhanom Ghebreyesus, ameonya kufungwa kwa mipaka ya nchi na kusitisha shughuli zote ili kupambana na janga la COVID 19 kunaweza kusababisha kuongezeka kwa vifo kutokana na ugonjwa wa Malaria katika nchi za Afrika.\n",
       "7116                                           China imesema Jumatano kuwa uamuzi wa Rais wa Marekani Donald Trump kusitisha ufadhili kwa Shirika la Afya Duniani kutaziathiri nchi zote wakati dunia ikikabiliwa na hatua muhimu ya kupambana na janga la virusi vya corona.\n",
       "2311                                                                                           Hatua hiyo imechukuliwa huku maambukizi yakiendelea kuongezeka kote duniani, na baada ya Shirika la Afya Duniani (WHO) kutangaza maambukizi ya Corona kuwa janga la kimataifa.\n",
       "3022                                                                                                    “Inasikitisha kwamba nchi kadhaa duniani na mashirika mbalimbali, ikiwemo Marekani, China na shirika la afya duniani, yanakabiliwa na tishio la maambukizi ya Corona.\n",
       "814                                              Katika ukosoaji wa nadra kwa umma, shirika la afya Duniani-WHO wiki iliyopita lilieleza kwamba katika kupingana na kanuni za kimataifa za afya, Tanzania ilikataa kutoa taarifa za kina za kesi zinazoshukiwa kuwa za Ebola.\n",
       "911                                                                                                                              Wakati huo huo, Museveni ametangaza mipango ya kuwarudisha Uganda raia wa nchi hiyo ambao wamekwama nchi za nje kutokana na janga la Corona.\n",
       "1020                                                                                                                                            Kwa mujibu wa shirika la habari la Uingereza Reuters hisa za shirika la ndege la Ujerumani Luftansa zilipanda kwa asilimia 6."
      ]
     },
     "execution_count": 26,
     "metadata": {},
     "output_type": "execute_result"
    }
   ],
   "source": [
    "search(X_tfv, q_tfv)"
   ]
  },
  {
   "cell_type": "markdown",
   "id": "3d9b733a-2951-4e42-b606-d04e1fea7084",
   "metadata": {},
   "source": [
    "### Embeddings\n",
    "\n",
    "A problem we still have is that we're matching for exact terms in the documents i.e. lexical search, therefore, synonyms and closely related terms won't be captured in the search.\n",
    "\n",
    "To fix this, we introduce embeddings, which is a techniques that is used to cluster related words together that capture ideas or concepts and contextual information."
   ]
  },
  {
   "cell_type": "markdown",
   "id": "e843a4b6-8261-4895-9ea2-162689e8d1e2",
   "metadata": {},
   "source": [
    "#### Singular Value Decomposition (SVD)\n",
    "\n",
    "This is a technique in linear algebra that operates on a matrix to extract its most important features. It can be used, for example, in [lossy compression of images][13] where important features of the image are extracted, and can be used to recreate the original image but with a lower resolution.\n",
    "\n",
    "When used on a document-term matrix, it extracts association between related words that represent an concept or topic.\n",
    "\n",
    "[13]: https://timbaumann.info/svd-image-compression-demo/"
   ]
  },
  {
   "cell_type": "markdown",
   "id": "746921d4-6294-4078-ae90-f12c25bb10e2",
   "metadata": {},
   "source": [
    "We use the vector representation from the TF-IDF vectorizer to create SVD embeddings:"
   ]
  },
  {
   "cell_type": "code",
   "execution_count": 27,
   "id": "81edb05a-7e2c-4ad2-be64-ccd2467a6e64",
   "metadata": {},
   "outputs": [],
   "source": [
    "from sklearn.decomposition import TruncatedSVD\n",
    "\n",
    "svd = TruncatedSVD(n_components=500)\n",
    "X_svd = svd.fit_transform(X_tfv)"
   ]
  },
  {
   "cell_type": "code",
   "execution_count": 28,
   "id": "d9fb48d3-e7b8-45dc-86c4-193404419246",
   "metadata": {},
   "outputs": [
    {
     "data": {
      "text/plain": [
       "(7672, 500)"
      ]
     },
     "execution_count": 28,
     "metadata": {},
     "output_type": "execute_result"
    }
   ],
   "source": [
    "X_svd.shape"
   ]
  },
  {
   "cell_type": "markdown",
   "id": "55343c77-f49c-475e-a0ff-85bf253a7e00",
   "metadata": {},
   "source": [
    "We provided the number of components/topics to be extracted as 500. For each document, the matrix shows how much it ranks in importance to each of the 500 topics.\n",
    "\n",
    "We can see how the first document ranks for the first 5 topics:"
   ]
  },
  {
   "cell_type": "code",
   "execution_count": 29,
   "id": "c9781b5b-8511-485d-8773-4b667badd5bb",
   "metadata": {},
   "outputs": [
    {
     "data": {
      "text/plain": [
       "array([ 0.18967023, -0.06791604, -0.24394782, -0.04354471,  0.00576048])"
      ]
     },
     "execution_count": 29,
     "metadata": {},
     "output_type": "execute_result"
    }
   ],
   "source": [
    "X_svd[0,:5]"
   ]
  },
  {
   "cell_type": "markdown",
   "id": "b7179994-90eb-4f57-be43-668e88312510",
   "metadata": {},
   "source": [
    "The `n_components` parameter is dependent on the dataset used and some experimentation may be required to arrive at the optimal value."
   ]
  },
  {
   "cell_type": "markdown",
   "id": "3bdf2ed4-ba03-4fd9-8718-0dca868aab8c",
   "metadata": {},
   "source": [
    "We similarly create embeddings for the query and run a search:"
   ]
  },
  {
   "cell_type": "code",
   "execution_count": 30,
   "id": "715a8da2-5876-408a-bc8e-48d9f1dec562",
   "metadata": {},
   "outputs": [
    {
     "data": {
      "text/plain": [
       "(1, 500)"
      ]
     },
     "execution_count": 30,
     "metadata": {},
     "output_type": "execute_result"
    }
   ],
   "source": [
    "q_svd = svd.transform(q_tfv)\n",
    "q_svd.shape"
   ]
  },
  {
   "cell_type": "code",
   "execution_count": 31,
   "id": "faec6782-f386-4c19-b7a8-2d5d3dc40e35",
   "metadata": {},
   "outputs": [
    {
     "data": {
      "text/html": [
       "<div>\n",
       "<style scoped>\n",
       "    .dataframe tbody tr th:only-of-type {\n",
       "        vertical-align: middle;\n",
       "    }\n",
       "\n",
       "    .dataframe tbody tr th {\n",
       "        vertical-align: top;\n",
       "    }\n",
       "\n",
       "    .dataframe thead th {\n",
       "        text-align: right;\n",
       "    }\n",
       "</style>\n",
       "<table border=\"1\" class=\"dataframe\">\n",
       "  <thead>\n",
       "    <tr style=\"text-align: right;\">\n",
       "      <th></th>\n",
       "      <th>documents</th>\n",
       "    </tr>\n",
       "  </thead>\n",
       "  <tbody>\n",
       "    <tr>\n",
       "      <th>664</th>\n",
       "      <td>Amesema \"mwanzoni tulizungumza kujifunza kutoka uzoefu wa nchi nyingine katika kupambana na janga la corona, sasa tunazungumzwa na nchi nyingine kama kielelezo hasi cha vita dhidi ya janga la corona Afrika na duniani.</td>\n",
       "    </tr>\n",
       "    <tr>\n",
       "      <th>4808</th>\n",
       "      <td>Amesema \"mwanzoni tulizungumza kujifunza kutoka uzoefu wa nchi nyingine katika kupambana na janga la corona, sasa tunazungumzwa na nchi nyingine kama kielelezo hasi cha vita dhidi ya janga la corona Afrika na duniani.</td>\n",
       "    </tr>\n",
       "    <tr>\n",
       "      <th>2574</th>\n",
       "      <td>Mali, nchi yenye huduma mbaya za afya, iliandaa uchaguzi jumapili, licha ya janga la virusi vya Corona.</td>\n",
       "    </tr>\n",
       "    <tr>\n",
       "      <th>6369</th>\n",
       "      <td>Mkurugenzi Mkuu wa Shirika la Afya Duniani Tedros Adhanom Ghebreyesus, ameonya kufungwa kwa mipaka ya nchi na kusitisha shughuli zote ili kupambana na janga la COVID 19 kunaweza kusababisha kuongezeka kwa vifo kutokana na ugonjwa wa Malaria katika nchi za Afrika.</td>\n",
       "    </tr>\n",
       "    <tr>\n",
       "      <th>968</th>\n",
       "      <td>Akizungumza na shirika la habari la AFP Akram Taher mumini moja amesema “Sherehe za Eid hazifani manmo wakati huu wa hali ya janga la corona – watu wanahisia ya kua na hofu”  Bara la Asia  Waislam katika bara la Asia – kutoka Indonesia hadi Pakistan, Malaysia na Afghanistan – wamekusanyika katika masoko katika shamrashamra za manunuzi ya sikukuu, wakikiuka muongozo wa kudhibiti virusi vya corona na wakati mwengine polisi wakijaribu kutawanya mikusanyiko ya makundi makubwa.</td>\n",
       "    </tr>\n",
       "    <tr>\n",
       "      <th>814</th>\n",
       "      <td>Katika ukosoaji wa nadra kwa umma, shirika la afya Duniani-WHO wiki iliyopita lilieleza kwamba katika kupingana na kanuni za kimataifa za afya, Tanzania ilikataa kutoa taarifa za kina za kesi zinazoshukiwa kuwa za Ebola.</td>\n",
       "    </tr>\n",
       "    <tr>\n",
       "      <th>3022</th>\n",
       "      <td>“Inasikitisha kwamba nchi kadhaa duniani na mashirika mbalimbali, ikiwemo Marekani, China na shirika la afya duniani, yanakabiliwa na tishio la maambukizi ya Corona.</td>\n",
       "    </tr>\n",
       "    <tr>\n",
       "      <th>7116</th>\n",
       "      <td>China imesema Jumatano kuwa uamuzi wa Rais wa Marekani Donald Trump kusitisha ufadhili kwa Shirika la Afya Duniani kutaziathiri nchi zote wakati dunia ikikabiliwa na hatua muhimu ya kupambana na janga la virusi vya corona.</td>\n",
       "    </tr>\n",
       "    <tr>\n",
       "      <th>1505</th>\n",
       "      <td>Nchi hizo za Afrika magharibi zimekuwa zikirekodi ongezeko la watu wanaoambukizwwa virusi vya Corona, na haijulikani namna zitakavyokabiliana na maambukizi hayo.</td>\n",
       "    </tr>\n",
       "    <tr>\n",
       "      <th>4592</th>\n",
       "      <td>\" Na katika ujumbe wake siku ya Jumapili, Katibu Mkuu wa Umoja wa Mataifa Antonio Gutteres, amesema wakati janga la COVID 19 likiendelea, limetoa pia fursa kwa janga la pilli nalo ni habari za upotoshaji kutokana na ushauri wa hatari wa afya unaotokana na nadharia za dhana zisizo na msingi.</td>\n",
       "    </tr>\n",
       "  </tbody>\n",
       "</table>\n",
       "</div>"
      ],
      "text/plain": [
       "                                                                                                                                                                                                                                                                                                                                                                                                                                                                                          documents\n",
       "664                                                                                                                                                                                                                                                                       Amesema \"mwanzoni tulizungumza kujifunza kutoka uzoefu wa nchi nyingine katika kupambana na janga la corona, sasa tunazungumzwa na nchi nyingine kama kielelezo hasi cha vita dhidi ya janga la corona Afrika na duniani.\n",
       "4808                                                                                                                                                                                                                                                                      Amesema \"mwanzoni tulizungumza kujifunza kutoka uzoefu wa nchi nyingine katika kupambana na janga la corona, sasa tunazungumzwa na nchi nyingine kama kielelezo hasi cha vita dhidi ya janga la corona Afrika na duniani.\n",
       "2574                                                                                                                                                                                                                                                                                                                                                                                        Mali, nchi yenye huduma mbaya za afya, iliandaa uchaguzi jumapili, licha ya janga la virusi vya Corona.\n",
       "6369                                                                                                                                                                                                                        Mkurugenzi Mkuu wa Shirika la Afya Duniani Tedros Adhanom Ghebreyesus, ameonya kufungwa kwa mipaka ya nchi na kusitisha shughuli zote ili kupambana na janga la COVID 19 kunaweza kusababisha kuongezeka kwa vifo kutokana na ugonjwa wa Malaria katika nchi za Afrika.\n",
       "968   Akizungumza na shirika la habari la AFP Akram Taher mumini moja amesema “Sherehe za Eid hazifani manmo wakati huu wa hali ya janga la corona – watu wanahisia ya kua na hofu”  Bara la Asia  Waislam katika bara la Asia – kutoka Indonesia hadi Pakistan, Malaysia na Afghanistan – wamekusanyika katika masoko katika shamrashamra za manunuzi ya sikukuu, wakikiuka muongozo wa kudhibiti virusi vya corona na wakati mwengine polisi wakijaribu kutawanya mikusanyiko ya makundi makubwa.\n",
       "814                                                                                                                                                                                                                                                                    Katika ukosoaji wa nadra kwa umma, shirika la afya Duniani-WHO wiki iliyopita lilieleza kwamba katika kupingana na kanuni za kimataifa za afya, Tanzania ilikataa kutoa taarifa za kina za kesi zinazoshukiwa kuwa za Ebola.\n",
       "3022                                                                                                                                                                                                                                                                                                                          “Inasikitisha kwamba nchi kadhaa duniani na mashirika mbalimbali, ikiwemo Marekani, China na shirika la afya duniani, yanakabiliwa na tishio la maambukizi ya Corona.\n",
       "7116                                                                                                                                                                                                                                                                 China imesema Jumatano kuwa uamuzi wa Rais wa Marekani Donald Trump kusitisha ufadhili kwa Shirika la Afya Duniani kutaziathiri nchi zote wakati dunia ikikabiliwa na hatua muhimu ya kupambana na janga la virusi vya corona.\n",
       "1505                                                                                                                                                                                                                                                                                                                              Nchi hizo za Afrika magharibi zimekuwa zikirekodi ongezeko la watu wanaoambukizwwa virusi vya Corona, na haijulikani namna zitakavyokabiliana na maambukizi hayo.\n",
       "4592                                                                                                                                                                                            \" Na katika ujumbe wake siku ya Jumapili, Katibu Mkuu wa Umoja wa Mataifa Antonio Gutteres, amesema wakati janga la COVID 19 likiendelea, limetoa pia fursa kwa janga la pilli nalo ni habari za upotoshaji kutokana na ushauri wa hatari wa afya unaotokana na nadharia za dhana zisizo na msingi."
      ]
     },
     "execution_count": 31,
     "metadata": {},
     "output_type": "execute_result"
    }
   ],
   "source": [
    "search(X_svd, q_svd)"
   ]
  },
  {
   "cell_type": "markdown",
   "id": "87e74304-867b-4115-97c1-c67987e52dbc",
   "metadata": {},
   "source": [
    "#### BERT"
   ]
  },
  {
   "cell_type": "markdown",
   "id": "4b1871ff-36c3-4bdd-8b8a-2c29fa9ed150",
   "metadata": {},
   "source": [
    "The previous methods all used the bag-of-words approach; the order of words wasn't taken into consideration when searching. The order of the words in the documents may add contextual useful information that could improve the search.\n",
    "\n",
    "BERT is a deep neural network model of the transformer architecture that encodes contextual meaning of words taking into account where they occur in a sentence, having being pre-trained on a large corpus of text.\n",
    "\n",
    "We'll use a variant of BERT called `flax-community/bert-swahili-news-classification`, which has been fine-tuned on Swahili news text, that will be downloaded from [Hugging Face][14].\n",
    "\n",
    "[14]: https://huggingface.co/flax-community/bert-swahili-news-classification"
   ]
  },
  {
   "cell_type": "markdown",
   "id": "12e0a3b4-8474-4963-a945-8507d06af3a0",
   "metadata": {},
   "source": [
    "Each pretrained transformer model has a tokenizer that is used to encode the input text into the vocabulary that was used in the training. We instantiate both the tokenizer and the model:"
   ]
  },
  {
   "cell_type": "code",
   "execution_count": 32,
   "id": "32cbbe2b-153d-4883-8a6b-486b030b8031",
   "metadata": {},
   "outputs": [
    {
     "name": "stderr",
     "output_type": "stream",
     "text": [
      "/home/krm/.envs/search_swahili/lib/python3.12/site-packages/transformers/tokenization_utils_base.py:1601: FutureWarning: `clean_up_tokenization_spaces` was not set. It will be set to `True` by default. This behavior will be depracted in transformers v4.45, and will be then set to `False` by default. For more details check this issue: https://github.com/huggingface/transformers/issues/31884\n",
      "  warnings.warn(\n"
     ]
    }
   ],
   "source": [
    "# Load model directly\n",
    "from transformers import AutoTokenizer, AutoModelForSequenceClassification\n",
    "\n",
    "tokenizer = AutoTokenizer.from_pretrained(\"flax-community/bert-swahili-news-classification\")\n",
    "model = AutoModelForSequenceClassification.from_pretrained(\"flax-community/bert-swahili-news-classification\")"
   ]
  },
  {
   "cell_type": "markdown",
   "id": "4b61a5b3-c793-4017-aa3c-568669ec4230",
   "metadata": {},
   "source": [
    "Using two documents from our text corpus, we run through the process of creating BERT embeddings:"
   ]
  },
  {
   "cell_type": "code",
   "execution_count": 33,
   "id": "9019e3fb-08d2-4980-95db-2eb9e5dc2c47",
   "metadata": {},
   "outputs": [],
   "source": [
    "texts = df.documents[:2].tolist()\n",
    "encoded_text = tokenizer(texts, padding=True, return_tensors='pt')"
   ]
  },
  {
   "cell_type": "markdown",
   "id": "ca03d5f3-784d-4b4b-91ea-124f1c996b99",
   "metadata": {},
   "source": [
    "We can see the encoded documents as the `input_ids` attribute:"
   ]
  },
  {
   "cell_type": "code",
   "execution_count": 34,
   "id": "5d42ba67-cff3-4246-aa98-60fcc47de373",
   "metadata": {},
   "outputs": [
    {
     "data": {
      "text/plain": [
       "(torch.Size([2, 21]),\n",
       " tensor([[ 1057,   117,   902,   117,   367,   362,  2867,  3731,   200,    20,\n",
       "            283,  5271,   869,   349,  8119,  4252,   117,  7632,    21,   588,\n",
       "             22],\n",
       "         [15117,  7672,   587,   156,  1938,   115,   367,    20,   870,  1374,\n",
       "            544,    21,   595,    21,   662,   119,   628,   969,  1617,    22,\n",
       "              0]]))"
      ]
     },
     "execution_count": 34,
     "metadata": {},
     "output_type": "execute_result"
    }
   ],
   "source": [
    "encoded_text.input_ids.shape, encoded_text.input_ids"
   ]
  },
  {
   "cell_type": "markdown",
   "id": "9ca6772d-8633-4016-9d24-d65867e10293",
   "metadata": {},
   "source": [
    "The document embeddings will be found at the last hidden layer before the output layer, after doing a forward pass through the model:"
   ]
  },
  {
   "cell_type": "code",
   "execution_count": 35,
   "id": "f7477583-9d96-4b12-8199-8ae5537f7880",
   "metadata": {},
   "outputs": [
    {
     "data": {
      "text/plain": [
       "torch.Size([2, 21, 768])"
      ]
     },
     "execution_count": 35,
     "metadata": {},
     "output_type": "execute_result"
    }
   ],
   "source": [
    "import torch\n",
    "\n",
    "model.config.output_hidden_states=True\n",
    "with torch.no_grad():  # Disable gradient calculation since we aren't training\n",
    "    outputs = model(**encoded_text)\n",
    "    last_hidden_states = outputs.hidden_states[-1]\n",
    "\n",
    "last_hidden_states.shape"
   ]
  },
  {
   "cell_type": "code",
   "execution_count": 36,
   "id": "eb8e1f34-5256-4daa-b076-f822b419d69c",
   "metadata": {},
   "outputs": [
    {
     "data": {
      "text/plain": [
       "(torch.Size([2, 768]),\n",
       " array([[ 1.4280016 , -0.18435301, -0.03840554, ..., -1.2254812 ,\n",
       "         -0.68361926,  0.7766203 ],\n",
       "        [ 0.8678242 , -0.80565315, -0.9088004 , ..., -0.47340122,\n",
       "          0.38405433,  0.7781875 ]], dtype=float32))"
      ]
     },
     "execution_count": 36,
     "metadata": {},
     "output_type": "execute_result"
    }
   ],
   "source": [
    "compressed_emb = last_hidden_states.mean(dim=1)\n",
    "compressed_emb.shape, compressed_emb.numpy()"
   ]
  },
  {
   "cell_type": "markdown",
   "id": "32c71030-89a0-4e6a-86db-82d54fcf21f1",
   "metadata": {},
   "source": [
    "At this point, we have a representation of 768 topic scores for each input document."
   ]
  },
  {
   "cell_type": "markdown",
   "id": "b5af927e-ab34-4f27-aa9e-4a9ca7b330c5",
   "metadata": {},
   "source": [
    "To replicate the process for the entire set of documents, we'll do inference in batches so as not to overwhelm the hardware. Modify `batch_size` as appropriate for your hardware."
   ]
  },
  {
   "cell_type": "code",
   "execution_count": 37,
   "id": "f6719299-ed22-4aab-a1d0-d937b71fe7ee",
   "metadata": {},
   "outputs": [],
   "source": [
    "from tqdm import tqdm\n",
    "\n",
    "def get_embeddings(documents, batch_size=50):\n",
    "    embedding_batches = []\n",
    "    for i in tqdm(range(0, len(documents), batch_size)):\n",
    "        batch = documents[i:i+batch_size]\n",
    "        encoded_text = tokenizer(batch, padding=True, return_tensors='pt')\n",
    "        with torch.no_grad():\n",
    "            outputs = model(**encoded_text)\n",
    "            last_hidden_states = outputs.hidden_states[-1]\n",
    "            embedding_batches.append(last_hidden_states.mean(dim=1).numpy())\n",
    "    return np.vstack(embedding_batches)    "
   ]
  },
  {
   "cell_type": "code",
   "execution_count": 38,
   "id": "2effa3e3-6963-4d35-b074-40f51e570d1d",
   "metadata": {},
   "outputs": [
    {
     "name": "stderr",
     "output_type": "stream",
     "text": [
      "100%|██████████████████████████████████████| 154/154 [20:40<00:00,  8.06s/it]\n"
     ]
    }
   ],
   "source": [
    "X_bert = get_embeddings(df.documents.to_list())"
   ]
  },
  {
   "cell_type": "markdown",
   "id": "9cf6528d-eeff-4549-8dda-71f107c15085",
   "metadata": {},
   "source": [
    "We also convert the query into embeddings:"
   ]
  },
  {
   "cell_type": "code",
   "execution_count": 39,
   "id": "caa01966-2f54-4269-accf-f5280b703708",
   "metadata": {},
   "outputs": [
    {
     "name": "stderr",
     "output_type": "stream",
     "text": [
      "100%|██████████████████████████████████████████| 1/1 [00:00<00:00,  5.60it/s]\n"
     ]
    }
   ],
   "source": [
    "q_bert = get_embeddings([query], batch_size=1)"
   ]
  },
  {
   "cell_type": "code",
   "execution_count": 40,
   "id": "c1a82c20-cab8-44b7-a07d-4d2c15e00192",
   "metadata": {},
   "outputs": [
    {
     "data": {
      "text/plain": [
       "((7672, 768), (1, 768))"
      ]
     },
     "execution_count": 40,
     "metadata": {},
     "output_type": "execute_result"
    }
   ],
   "source": [
    "X_bert.shape, q_bert.shape"
   ]
  },
  {
   "cell_type": "markdown",
   "id": "5b96b4b3-9ae3-4a53-b427-e14f3f1aa04e",
   "metadata": {},
   "source": [
    "We then run a search using BERT embeddings:"
   ]
  },
  {
   "cell_type": "code",
   "execution_count": 41,
   "id": "a7264120-4900-4951-9e2f-a412b6aa6d9e",
   "metadata": {},
   "outputs": [
    {
     "data": {
      "text/html": [
       "<div>\n",
       "<style scoped>\n",
       "    .dataframe tbody tr th:only-of-type {\n",
       "        vertical-align: middle;\n",
       "    }\n",
       "\n",
       "    .dataframe tbody tr th {\n",
       "        vertical-align: top;\n",
       "    }\n",
       "\n",
       "    .dataframe thead th {\n",
       "        text-align: right;\n",
       "    }\n",
       "</style>\n",
       "<table border=\"1\" class=\"dataframe\">\n",
       "  <thead>\n",
       "    <tr style=\"text-align: right;\">\n",
       "      <th></th>\n",
       "      <th>documents</th>\n",
       "    </tr>\n",
       "  </thead>\n",
       "  <tbody>\n",
       "    <tr>\n",
       "      <th>5679</th>\n",
       "      <td>Nchi tatu za Africa zinamaambukizi zaidi katika mlipuko wa virusi vya corona bara la Afrika, lakini naibu mkurugenzi wa Vituo vya Kudhibiti Magonjwa na Kinga Afrika wanasema bara lote lazima lichukue hatua.</td>\n",
       "    </tr>\n",
       "    <tr>\n",
       "      <th>3020</th>\n",
       "      <td>“Umoja wa Afrika unaunga kwa dhati juhudi za WHO katika kupambana na virusi vya Corona na kutaka viongozi wote wa dunia, kuungana katika kuzuia maambukizi na vifo kutokana na virusi hivo” ameandika Mahamat kwenye mtandao huo.</td>\n",
       "    </tr>\n",
       "    <tr>\n",
       "      <th>2460</th>\n",
       "      <td>Shirika la Afya Duniani (WHO) Ijumaa limeonya kuwa watu 190,000 wanaweza kupoteza maisha mwaka 2020 barani Africa, iwapo serikali zitashindwa kudhibiti maambukizi ya virus vya corona.</td>\n",
       "    </tr>\n",
       "    <tr>\n",
       "      <th>3022</th>\n",
       "      <td>“Inasikitisha kwamba nchi kadhaa duniani na mashirika mbalimbali, ikiwemo Marekani, China na shirika la afya duniani, yanakabiliwa na tishio la maambukizi ya Corona.</td>\n",
       "    </tr>\n",
       "    <tr>\n",
       "      <th>6369</th>\n",
       "      <td>Mkurugenzi Mkuu wa Shirika la Afya Duniani Tedros Adhanom Ghebreyesus, ameonya kufungwa kwa mipaka ya nchi na kusitisha shughuli zote ili kupambana na janga la COVID 19 kunaweza kusababisha kuongezeka kwa vifo kutokana na ugonjwa wa Malaria katika nchi za Afrika.</td>\n",
       "    </tr>\n",
       "    <tr>\n",
       "      <th>2536</th>\n",
       "      <td>Shirika la Afya Duniani, WHO, limeripoti kuchukuwa hatua za haraka kukabiliana na mlipuko wa virusi vya Ebola nchini Uganda, huku hatua za madhubuti zikichukuliwa kuhakikisha kwamba watu wanaoishi kwenye mpaka wa Uganda na Jamhuri ya Kidemokrasia ya Congo wanaanza kupokea chanjo dhidi ya Ebola Hadi sasa, visa vitatu vya maambukizi vimethibitishwa ikiwemo kifo kimoja.</td>\n",
       "    </tr>\n",
       "    <tr>\n",
       "      <th>3016</th>\n",
       "      <td>Baadhi ya viongozi barani Afrika wameeleza kushangazwa kwao na tamko la rais wa Marekani kwamba anafikiria kusitisha msaada wa kifedha kwa Shirika la Afya Duniani WHO.</td>\n",
       "    </tr>\n",
       "    <tr>\n",
       "      <th>5145</th>\n",
       "      <td>Wakati timu za wanaokabiliana na Ebola wakihangaika kudhibiti mlipuko wa ugonjwa huo huko Jamhuri ya Kidemokrasia ya Congo, DRC, mawaziri wa afya wa Jumuiya ya Afrika Mashariki (EAC) wanasema wanatambua hatari zake na wanatathmini kuanza kutumia chanjo ya Ebola iliyoko katika majaribio.</td>\n",
       "    </tr>\n",
       "    <tr>\n",
       "      <th>6932</th>\n",
       "      <td>Mkuu wa Shirika la Afya, WHO, nchini Burundi alifukuzwa wiki iliyopita baada ya kueleza wasiwasi wake juu ya uelewa wa serikali unavyokinzana na hatari inayoletwa na virusi vya corona.</td>\n",
       "    </tr>\n",
       "    <tr>\n",
       "      <th>1481</th>\n",
       "      <td>Wizara ya afya a Uganda imesema kwamba shirika la afya duniani limetoa mwelekeo kwamba kila kisa cha maambukizi kinahesabiwa katika nchi kimeripotiwa.</td>\n",
       "    </tr>\n",
       "  </tbody>\n",
       "</table>\n",
       "</div>"
      ],
      "text/plain": [
       "                                                                                                                                                                                                                                                                                                                                                                              documents\n",
       "5679                                                                                                                                                                     Nchi tatu za Africa zinamaambukizi zaidi katika mlipuko wa virusi vya corona bara la Afrika, lakini naibu mkurugenzi wa Vituo vya Kudhibiti Magonjwa na Kinga Afrika wanasema bara lote lazima lichukue hatua.\n",
       "3020                                                                                                                                                  “Umoja wa Afrika unaunga kwa dhati juhudi za WHO katika kupambana na virusi vya Corona na kutaka viongozi wote wa dunia, kuungana katika kuzuia maambukizi na vifo kutokana na virusi hivo” ameandika Mahamat kwenye mtandao huo.\n",
       "2460                                                                                                                                                                                            Shirika la Afya Duniani (WHO) Ijumaa limeonya kuwa watu 190,000 wanaweza kupoteza maisha mwaka 2020 barani Africa, iwapo serikali zitashindwa kudhibiti maambukizi ya virus vya corona.\n",
       "3022                                                                                                                                                                                                              “Inasikitisha kwamba nchi kadhaa duniani na mashirika mbalimbali, ikiwemo Marekani, China na shirika la afya duniani, yanakabiliwa na tishio la maambukizi ya Corona.\n",
       "6369                                                                                                            Mkurugenzi Mkuu wa Shirika la Afya Duniani Tedros Adhanom Ghebreyesus, ameonya kufungwa kwa mipaka ya nchi na kusitisha shughuli zote ili kupambana na janga la COVID 19 kunaweza kusababisha kuongezeka kwa vifo kutokana na ugonjwa wa Malaria katika nchi za Afrika.\n",
       "2536  Shirika la Afya Duniani, WHO, limeripoti kuchukuwa hatua za haraka kukabiliana na mlipuko wa virusi vya Ebola nchini Uganda, huku hatua za madhubuti zikichukuliwa kuhakikisha kwamba watu wanaoishi kwenye mpaka wa Uganda na Jamhuri ya Kidemokrasia ya Congo wanaanza kupokea chanjo dhidi ya Ebola Hadi sasa, visa vitatu vya maambukizi vimethibitishwa ikiwemo kifo kimoja.\n",
       "3016                                                                                                                                                                                                            Baadhi ya viongozi barani Afrika wameeleza kushangazwa kwao na tamko la rais wa Marekani kwamba anafikiria kusitisha msaada wa kifedha kwa Shirika la Afya Duniani WHO.\n",
       "5145                                                                                    Wakati timu za wanaokabiliana na Ebola wakihangaika kudhibiti mlipuko wa ugonjwa huo huko Jamhuri ya Kidemokrasia ya Congo, DRC, mawaziri wa afya wa Jumuiya ya Afrika Mashariki (EAC) wanasema wanatambua hatari zake na wanatathmini kuanza kutumia chanjo ya Ebola iliyoko katika majaribio.\n",
       "6932                                                                                                                                                                                           Mkuu wa Shirika la Afya, WHO, nchini Burundi alifukuzwa wiki iliyopita baada ya kueleza wasiwasi wake juu ya uelewa wa serikali unavyokinzana na hatari inayoletwa na virusi vya corona.\n",
       "1481                                                                                                                                                                                                                             Wizara ya afya a Uganda imesema kwamba shirika la afya duniani limetoa mwelekeo kwamba kila kisa cha maambukizi kinahesabiwa katika nchi kimeripotiwa."
      ]
     },
     "execution_count": 41,
     "metadata": {},
     "output_type": "execute_result"
    }
   ],
   "source": [
    "search(X_bert, q_bert)"
   ]
  },
  {
   "cell_type": "markdown",
   "id": "a45bc295-aaa1-4a4f-8894-9e22dc8aa928",
   "metadata": {},
   "source": [
    "The BERT results look like the most relevant so far."
   ]
  },
  {
   "cell_type": "markdown",
   "id": "64aea390-6527-4895-9f88-eb40e68b2938",
   "metadata": {},
   "source": [
    "## Conclusion\n",
    "\n",
    "We looked at various techniques that can be used to search textual documents, starting from a simple keyword based approach to a more sophisticated one utilizing language model embeddings like BERT. These are a subset of techniques that are applied in the wider field of Information Retrieval. A good resource for more in-depth study can be found on the [Stanford NLP website][15]\n",
    "\n",
    "[15]: https://nlp.stanford.edu/IR-book/information-retrieval-book.html"
   ]
  }
 ],
 "metadata": {
  "kernelspec": {
   "display_name": "Python 3 (ipykernel)",
   "language": "python",
   "name": "python3"
  },
  "language_info": {
   "codemirror_mode": {
    "name": "ipython",
    "version": 3
   },
   "file_extension": ".py",
   "mimetype": "text/x-python",
   "name": "python",
   "nbconvert_exporter": "python",
   "pygments_lexer": "ipython3",
   "version": "3.12.7"
  }
 },
 "nbformat": 4,
 "nbformat_minor": 5
}
