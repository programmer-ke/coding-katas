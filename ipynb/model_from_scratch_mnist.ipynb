{
 "cells": [
  {
   "cell_type": "markdown",
   "id": "780a5bd3",
   "metadata": {},
   "source": [
    "# Creating a Digit Classifier (Almost) from Scratch"
   ]
  },
  {
   "cell_type": "code",
   "execution_count": 1,
   "id": "9548ab48",
   "metadata": {},
   "outputs": [
    {
     "name": "stderr",
     "output_type": "stream",
     "text": [
      "/home/krm/mambaforge/lib/python3.10/site-packages/torchvision/io/image.py:13: UserWarning: Failed to load image Python extension: libc10_cuda.so: cannot open shared object file: No such file or directory\n",
      "  warn(f\"Failed to load image Python extension: {e}\")\n"
     ]
    }
   ],
   "source": [
    "from fastai.vision.all import *\n"
   ]
  },
  {
   "cell_type": "markdown",
   "id": "f1973927",
   "metadata": {},
   "source": [
    "We're creating a model that can classify any images as a 3 or a 7. We'll use a sample of MNIST that contains just these.\n",
    "\n",
    "## Data Prep"
   ]
  },
  {
   "cell_type": "code",
   "execution_count": 2,
   "id": "0e7d01c0",
   "metadata": {},
   "outputs": [],
   "source": [
    "path = untar_data(URLs.MNIST_SAMPLE)"
   ]
  },
  {
   "cell_type": "code",
   "execution_count": 3,
   "id": "e78f1f00",
   "metadata": {},
   "outputs": [
    {
     "data": {
      "text/plain": [
       "(#3) [Path('/home/krm/.fastai/data/mnist_sample/labels.csv'),Path('/home/krm/.fastai/data/mnist_sample/train'),Path('/home/krm/.fastai/data/mnist_sample/valid')]"
      ]
     },
     "execution_count": 3,
     "metadata": {},
     "output_type": "execute_result"
    }
   ],
   "source": [
    "path.ls()"
   ]
  },
  {
   "cell_type": "markdown",
   "id": "0ccddb63",
   "metadata": {},
   "source": [
    "The sample data is divided into training and validation sets"
   ]
  },
  {
   "cell_type": "code",
   "execution_count": 4,
   "id": "9525ec2e",
   "metadata": {},
   "outputs": [
    {
     "data": {
      "text/plain": [
       "((#2) [Path('/home/krm/.fastai/data/mnist_sample/train/7'),Path('/home/krm/.fastai/data/mnist_sample/train/3')],\n",
       " (#2) [Path('/home/krm/.fastai/data/mnist_sample/valid/7'),Path('/home/krm/.fastai/data/mnist_sample/valid/3')])"
      ]
     },
     "execution_count": 4,
     "metadata": {},
     "output_type": "execute_result"
    }
   ],
   "source": [
    "(path/\"train\").ls(), (path/\"valid\").ls()"
   ]
  },
  {
   "cell_type": "markdown",
   "id": "d0e10436",
   "metadata": {},
   "source": [
    "Get a list of the training set of 3s and 7s"
   ]
  },
  {
   "cell_type": "code",
   "execution_count": 5,
   "id": "ee0f5197",
   "metadata": {},
   "outputs": [],
   "source": [
    "threes = (path/\"train\"/\"3\").ls().sorted()\n",
    "sevens = (path/\"train\"/\"7\").ls().sorted()"
   ]
  },
  {
   "cell_type": "markdown",
   "id": "ac100836",
   "metadata": {},
   "source": [
    "Have a look at one of the 3s. We use the `Image` class from PIL."
   ]
  },
  {
   "cell_type": "code",
   "execution_count": 6,
   "id": "f3d9c6fc",
   "metadata": {},
   "outputs": [
    {
     "data": {
      "image/png": "[encoded data removed]",
      "text/plain": [
       "<PIL.PngImagePlugin.PngImageFile image mode=L size=28x28>"
      ]
     },
     "execution_count": 6,
     "metadata": {},
     "output_type": "execute_result"
    }
   ],
   "source": [
    "img3_path = threes[2]\n",
    "img3 = Image.open(img3_path)\n",
    "img3"
   ]
  },
  {
   "cell_type": "markdown",
   "id": "6f8c273d",
   "metadata": {},
   "source": [
    "We can 'see' the image as a collection of digits using numpy arrays of pytorch tensors. "
   ]
  },
  {
   "cell_type": "code",
   "execution_count": 7,
   "id": "46d85d17",
   "metadata": {},
   "outputs": [
    {
     "data": {
      "text/plain": [
       "array([[  0,   0,   0,   0,   0,   0],\n",
       "       [  0,   0,   0,   0,   0,   0],\n",
       "       [  0,   0,   0,   0,  13,  36],\n",
       "       [  0,   0,   0,   0,  89, 253],\n",
       "       [  0,   0,   0,   0,  89, 253],\n",
       "       [  0,   0,   0,   0,  17, 151]], dtype=uint8)"
      ]
     },
     "execution_count": 7,
     "metadata": {},
     "output_type": "execute_result"
    }
   ],
   "source": [
    "array(img3)[4:10, 4:10]"
   ]
  },
  {
   "cell_type": "code",
   "execution_count": 8,
   "id": "8730aae1",
   "metadata": {},
   "outputs": [
    {
     "data": {
      "text/plain": [
       "tensor([[  0,   0,   0,   0,   0,   0],\n",
       "        [  0,   0,   0,   0,   0,   0],\n",
       "        [  0,   0,   0,   0,  13,  36],\n",
       "        [  0,   0,   0,   0,  89, 253],\n",
       "        [  0,   0,   0,   0,  89, 253],\n",
       "        [  0,   0,   0,   0,  17, 151]], dtype=torch.uint8)"
      ]
     },
     "execution_count": 8,
     "metadata": {},
     "output_type": "execute_result"
    }
   ],
   "source": [
    "tensor(img3)[4:10, 4:10]"
   ]
  },
  {
   "cell_type": "markdown",
   "id": "d8282421",
   "metadata": {},
   "source": [
    "Next we create tensors for each of the 3s and 7s."
   ]
  },
  {
   "cell_type": "code",
   "execution_count": 9,
   "id": "11c1eaeb",
   "metadata": {},
   "outputs": [],
   "source": [
    "three_tensors = [tensor(Image.open(path)) for path in threes]\n",
    "seven_tensors = [tensor(Image.open(path)) for path in sevens]"
   ]
  },
  {
   "cell_type": "code",
   "execution_count": 10,
   "id": "c8ebff9f",
   "metadata": {},
   "outputs": [
    {
     "data": {
      "text/plain": [
       "(6131, 6265)"
      ]
     },
     "execution_count": 10,
     "metadata": {},
     "output_type": "execute_result"
    }
   ],
   "source": [
    "len(three_tensors), len(seven_tensors)"
   ]
  },
  {
   "cell_type": "markdown",
   "id": "77b9cee3",
   "metadata": {},
   "source": [
    "Use fastai's show_image to see a seven"
   ]
  },
  {
   "cell_type": "code",
   "execution_count": 11,
   "id": "d1ccc525",
   "metadata": {},
   "outputs": [
    {
     "data": {
      "text/plain": [
       "<AxesSubplot: >"
      ]
     },
     "execution_count": 11,
     "metadata": {},
     "output_type": "execute_result"
    },
    {
     "data": {
      "image/png": "[encoded data removed]",
      "text/plain": [
       "<Figure size 100x100 with 1 Axes>"
      ]
     },
     "metadata": {},
     "output_type": "display_data"
    }
   ],
   "source": [
    "show_image(seven_tensors[6])"
   ]
  },
  {
   "cell_type": "markdown",
   "id": "32b1cd89",
   "metadata": {},
   "source": [
    "We stack each list of tensors into a single one of 3 axes (rank 3), convert to float for some operations. We also scale to values between 0 and 1 (better for the model)."
   ]
  },
  {
   "cell_type": "code",
   "execution_count": 12,
   "id": "e54f65b5",
   "metadata": {},
   "outputs": [
    {
     "data": {
      "text/plain": [
       "(torch.Size([6131, 28, 28]), torch.Size([6265, 28, 28]))"
      ]
     },
     "execution_count": 12,
     "metadata": {},
     "output_type": "execute_result"
    }
   ],
   "source": [
    "stacked_threes = torch.stack(three_tensors).float() / 255\n",
    "stacked_sevens = torch.stack(seven_tensors).float() / 255\n",
    "stacked_threes.shape, stacked_sevens.shape"
   ]
  },
  {
   "cell_type": "markdown",
   "id": "47b7dfac",
   "metadata": {},
   "source": [
    "We create a training input collection by concatenating the two stacked tensors into one. We use the `view` method to reshape the tensor into two dimensions. `-1` means making the first dimension as big as possible to accomodate the new shape."
   ]
  },
  {
   "cell_type": "code",
   "execution_count": 13,
   "id": "439bd51f",
   "metadata": {},
   "outputs": [],
   "source": [
    "train_x = torch.cat([stacked_threes, stacked_sevens]).view(-1, 28 * 28)"
   ]
  },
  {
   "cell_type": "code",
   "execution_count": 14,
   "id": "36dcd0e0",
   "metadata": {},
   "outputs": [
    {
     "data": {
      "text/plain": [
       "torch.Size([12396, 784])"
      ]
     },
     "execution_count": 14,
     "metadata": {},
     "output_type": "execute_result"
    }
   ],
   "source": [
    "train_x.shape"
   ]
  },
  {
   "cell_type": "code",
   "execution_count": 15,
   "id": "d635368e",
   "metadata": {},
   "outputs": [
    {
     "data": {
      "text/plain": [
       "tensor([[0., 0., 0.,  ..., 0., 0., 0.],\n",
       "        [0., 0., 0.,  ..., 0., 0., 0.]])"
      ]
     },
     "execution_count": 15,
     "metadata": {},
     "output_type": "execute_result"
    }
   ],
   "source": [
    "train_x[:2]"
   ]
  },
  {
   "cell_type": "markdown",
   "id": "fa2efe0d",
   "metadata": {},
   "source": [
    "Each item along axis 0 is now a list of 784 floats representing a single image.\n",
    "\n",
    "We next create labels for our training input. Our objective is to classify whether an image is a 3 or not. The labels for 3s will be 1 (True) and for 7s will be 0 (False)."
   ]
  },
  {
   "cell_type": "code",
   "execution_count": 16,
   "id": "df28c732",
   "metadata": {},
   "outputs": [],
   "source": [
    "train_y_flat = tensor([1] * len(threes) + [0] * len(sevens))"
   ]
  },
  {
   "cell_type": "code",
   "execution_count": 17,
   "id": "fa67743a",
   "metadata": {},
   "outputs": [
    {
     "data": {
      "text/plain": [
       "torch.Size([12396])"
      ]
     },
     "execution_count": 17,
     "metadata": {},
     "output_type": "execute_result"
    }
   ],
   "source": [
    "train_y_flat.shape"
   ]
  },
  {
   "cell_type": "markdown",
   "id": "6ad92665",
   "metadata": {},
   "source": [
    "We need to have a 2D tensor with the second dimension being a size of 1. We use pytorch's `unsqueeze` for that."
   ]
  },
  {
   "cell_type": "code",
   "execution_count": 18,
   "id": "1f60d89d",
   "metadata": {},
   "outputs": [],
   "source": [
    "train_y = train_y_flat.unsqueeze(1)"
   ]
  },
  {
   "cell_type": "code",
   "execution_count": 19,
   "id": "1d37ddca",
   "metadata": {},
   "outputs": [
    {
     "data": {
      "text/plain": [
       "torch.Size([12396, 1])"
      ]
     },
     "execution_count": 19,
     "metadata": {},
     "output_type": "execute_result"
    }
   ],
   "source": [
    "train_y.shape"
   ]
  },
  {
   "cell_type": "markdown",
   "id": "d1dadefa",
   "metadata": {},
   "source": [
    "In pytorch, a dataset needs to return a tuple of (x, y) when indexed. We therefore zip training input and labels."
   ]
  },
  {
   "cell_type": "code",
   "execution_count": 20,
   "id": "290986ab",
   "metadata": {},
   "outputs": [
    {
     "data": {
      "text/plain": [
       "(torch.Size([784]), torch.Size([1]))"
      ]
     },
     "execution_count": 20,
     "metadata": {},
     "output_type": "execute_result"
    }
   ],
   "source": [
    "dataset = list(zip(train_x, train_y))\n",
    "x0, y0 = dataset[0]\n",
    "x0.shape, y0.shape"
   ]
  },
  {
   "cell_type": "markdown",
   "id": "cad28448",
   "metadata": {},
   "source": [
    "We do the same preparation to the validation data as we've done for the training data."
   ]
  },
  {
   "cell_type": "code",
   "execution_count": 21,
   "id": "b8f59e62",
   "metadata": {},
   "outputs": [],
   "source": [
    "v_threes = (path/\"valid\"/\"3\").ls().sorted()\n",
    "v_sevens = (path/\"valid\"/\"7\").ls().sorted()"
   ]
  },
  {
   "cell_type": "code",
   "execution_count": 22,
   "id": "476331ce",
   "metadata": {},
   "outputs": [],
   "source": [
    "v_three_tensors = [tensor(Image.open(path)) for path in v_threes]\n",
    "v_seven_tensors = [tensor(Image.open(path)) for path in v_sevens]"
   ]
  },
  {
   "cell_type": "code",
   "execution_count": 23,
   "id": "ccded4d4",
   "metadata": {},
   "outputs": [],
   "source": [
    "stacked_v_threes = torch.stack(v_three_tensors).float()/255\n",
    "stacked_v_sevens = torch.stack(v_seven_tensors).float()/255"
   ]
  },
  {
   "cell_type": "code",
   "execution_count": 24,
   "id": "e337bb72",
   "metadata": {},
   "outputs": [],
   "source": [
    "valid_x = torch.cat([stacked_v_threes, stacked_v_sevens]).view(-1, 28 * 28)"
   ]
  },
  {
   "cell_type": "code",
   "execution_count": 25,
   "id": "d1362ea1",
   "metadata": {},
   "outputs": [
    {
     "data": {
      "text/plain": [
       "torch.Size([2038, 784])"
      ]
     },
     "execution_count": 25,
     "metadata": {},
     "output_type": "execute_result"
    }
   ],
   "source": [
    "valid_x.shape"
   ]
  },
  {
   "cell_type": "code",
   "execution_count": 26,
   "id": "1d606dba",
   "metadata": {},
   "outputs": [
    {
     "data": {
      "text/plain": [
       "torch.Size([2038, 1])"
      ]
     },
     "execution_count": 26,
     "metadata": {},
     "output_type": "execute_result"
    }
   ],
   "source": [
    "valid_y = tensor([1] * len(v_threes) + [0] * len(v_sevens)).unsqueeze(1)\n",
    "valid_y.shape"
   ]
  },
  {
   "cell_type": "code",
   "execution_count": 27,
   "id": "d0cc08ea",
   "metadata": {},
   "outputs": [],
   "source": [
    "validation_dataset = list(zip(valid_x, valid_y))"
   ]
  },
  {
   "cell_type": "code",
   "execution_count": null,
   "id": "45d3b46d",
   "metadata": {},
   "outputs": [],
   "source": []
  },
  {
   "cell_type": "code",
   "execution_count": null,
   "id": "e8ce7c98",
   "metadata": {},
   "outputs": [],
   "source": []
  }
 ],
 "metadata": {
  "kernelspec": {
   "display_name": "Python 3 (ipykernel)",
   "language": "python",
   "name": "python3"
  },
  "language_info": {
   "codemirror_mode": {
    "name": "ipython",
    "version": 3
   },
   "file_extension": ".py",
   "mimetype": "text/x-python",
   "name": "python",
   "nbconvert_exporter": "python",
   "pygments_lexer": "ipython3",
   "version": "3.10.8"
  }
 },
 "nbformat": 4,
 "nbformat_minor": 5
}
